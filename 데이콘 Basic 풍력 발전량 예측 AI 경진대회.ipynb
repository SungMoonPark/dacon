{
  "nbformat": 4,
  "nbformat_minor": 0,
  "metadata": {
    "colab": {
      "provenance": []
    },
    "kernelspec": {
      "name": "python3",
      "display_name": "Python 3"
    },
    "language_info": {
      "name": "python"
    }
  },
  "cells": [
    {
      "cell_type": "markdown",
      "source": [
        "id : 샘플 별 고유 id\n",
        "\n",
        "temperature : 기온 (°C)\n",
        "\n",
        "pressure : 기압 (hPa)\n",
        "\n",
        "humidity : 습도 (%)\n",
        "\n",
        "wind_speed : 풍속 (m/s)\n",
        "\n",
        "wind_direction : 풍향 (degree)\n",
        "\n",
        "precipitation : 1시간 강수량 (mm)\n",
        "\n",
        "snowing : 눈 오는 상태 여부 (False, True)\n",
        "\n",
        "cloudiness : 흐림 정도 (%)\n",
        "\n",
        "target : 풍력 발전량 (GW) (목표 예측값)\n",
        " "
      ],
      "metadata": {
        "id": "_cdGxCoddc8C"
      }
    },
    {
      "cell_type": "code",
      "execution_count": 1,
      "metadata": {
        "id": "LjbJ_sYlJxRm"
      },
      "outputs": [],
      "source": [
        "import pandas as pd\n",
        "import numpy as np\n",
        "import matplotlib.pyplot as plt\n",
        "import seaborn as sns"
      ]
    },
    {
      "cell_type": "code",
      "source": [
        "train = pd.read_csv('train.csv')\n",
        "test = pd.read_csv('test.csv')\n",
        "sub  = pd.read_csv('sample_submission.csv')"
      ],
      "metadata": {
        "id": "jZJ72lYXJ3nD"
      },
      "execution_count": 2,
      "outputs": []
    },
    {
      "cell_type": "code",
      "source": [
        "train.head()"
      ],
      "metadata": {
        "colab": {
          "base_uri": "https://localhost:8080/",
          "height": 206
        },
        "id": "ktho6x5cdTDv",
        "outputId": "e532a49e-b8a4-42f8-aa22-cf6f646e6e3e"
      },
      "execution_count": null,
      "outputs": [
        {
          "output_type": "execute_result",
          "data": {
            "text/plain": [
              "            id  temperature  pressure  humidity  wind_speed  wind_direction  \\\n",
              "0  TRAIN_00000      27.8816    1013.6      46.8         2.4           232.4   \n",
              "1  TRAIN_00001       5.7540    1026.6      76.6         3.6           172.0   \n",
              "2  TRAIN_00002      20.8220    1016.2      64.8         2.2           206.0   \n",
              "3  TRAIN_00003      20.0758    1017.4      72.6         0.8           215.4   \n",
              "4  TRAIN_00004       7.5260    1023.2      82.8         1.2           158.0   \n",
              "\n",
              "   precipitation  snowing  cloudiness  target  \n",
              "0           0.00    False         0.0   1.180  \n",
              "1           0.00    False         8.8   8.581  \n",
              "2           0.06    False        23.0   3.978  \n",
              "3           0.00    False         0.0   8.301  \n",
              "4           0.00    False        15.0   1.692  "
            ],
            "text/html": [
              "\n",
              "  <div id=\"df-facc227e-2c44-4d03-a016-585c27fa757b\">\n",
              "    <div class=\"colab-df-container\">\n",
              "      <div>\n",
              "<style scoped>\n",
              "    .dataframe tbody tr th:only-of-type {\n",
              "        vertical-align: middle;\n",
              "    }\n",
              "\n",
              "    .dataframe tbody tr th {\n",
              "        vertical-align: top;\n",
              "    }\n",
              "\n",
              "    .dataframe thead th {\n",
              "        text-align: right;\n",
              "    }\n",
              "</style>\n",
              "<table border=\"1\" class=\"dataframe\">\n",
              "  <thead>\n",
              "    <tr style=\"text-align: right;\">\n",
              "      <th></th>\n",
              "      <th>id</th>\n",
              "      <th>temperature</th>\n",
              "      <th>pressure</th>\n",
              "      <th>humidity</th>\n",
              "      <th>wind_speed</th>\n",
              "      <th>wind_direction</th>\n",
              "      <th>precipitation</th>\n",
              "      <th>snowing</th>\n",
              "      <th>cloudiness</th>\n",
              "      <th>target</th>\n",
              "    </tr>\n",
              "  </thead>\n",
              "  <tbody>\n",
              "    <tr>\n",
              "      <th>0</th>\n",
              "      <td>TRAIN_00000</td>\n",
              "      <td>27.8816</td>\n",
              "      <td>1013.6</td>\n",
              "      <td>46.8</td>\n",
              "      <td>2.4</td>\n",
              "      <td>232.4</td>\n",
              "      <td>0.00</td>\n",
              "      <td>False</td>\n",
              "      <td>0.0</td>\n",
              "      <td>1.180</td>\n",
              "    </tr>\n",
              "    <tr>\n",
              "      <th>1</th>\n",
              "      <td>TRAIN_00001</td>\n",
              "      <td>5.7540</td>\n",
              "      <td>1026.6</td>\n",
              "      <td>76.6</td>\n",
              "      <td>3.6</td>\n",
              "      <td>172.0</td>\n",
              "      <td>0.00</td>\n",
              "      <td>False</td>\n",
              "      <td>8.8</td>\n",
              "      <td>8.581</td>\n",
              "    </tr>\n",
              "    <tr>\n",
              "      <th>2</th>\n",
              "      <td>TRAIN_00002</td>\n",
              "      <td>20.8220</td>\n",
              "      <td>1016.2</td>\n",
              "      <td>64.8</td>\n",
              "      <td>2.2</td>\n",
              "      <td>206.0</td>\n",
              "      <td>0.06</td>\n",
              "      <td>False</td>\n",
              "      <td>23.0</td>\n",
              "      <td>3.978</td>\n",
              "    </tr>\n",
              "    <tr>\n",
              "      <th>3</th>\n",
              "      <td>TRAIN_00003</td>\n",
              "      <td>20.0758</td>\n",
              "      <td>1017.4</td>\n",
              "      <td>72.6</td>\n",
              "      <td>0.8</td>\n",
              "      <td>215.4</td>\n",
              "      <td>0.00</td>\n",
              "      <td>False</td>\n",
              "      <td>0.0</td>\n",
              "      <td>8.301</td>\n",
              "    </tr>\n",
              "    <tr>\n",
              "      <th>4</th>\n",
              "      <td>TRAIN_00004</td>\n",
              "      <td>7.5260</td>\n",
              "      <td>1023.2</td>\n",
              "      <td>82.8</td>\n",
              "      <td>1.2</td>\n",
              "      <td>158.0</td>\n",
              "      <td>0.00</td>\n",
              "      <td>False</td>\n",
              "      <td>15.0</td>\n",
              "      <td>1.692</td>\n",
              "    </tr>\n",
              "  </tbody>\n",
              "</table>\n",
              "</div>\n",
              "      <button class=\"colab-df-convert\" onclick=\"convertToInteractive('df-facc227e-2c44-4d03-a016-585c27fa757b')\"\n",
              "              title=\"Convert this dataframe to an interactive table.\"\n",
              "              style=\"display:none;\">\n",
              "        \n",
              "  <svg xmlns=\"http://www.w3.org/2000/svg\" height=\"24px\"viewBox=\"0 0 24 24\"\n",
              "       width=\"24px\">\n",
              "    <path d=\"M0 0h24v24H0V0z\" fill=\"none\"/>\n",
              "    <path d=\"M18.56 5.44l.94 2.06.94-2.06 2.06-.94-2.06-.94-.94-2.06-.94 2.06-2.06.94zm-11 1L8.5 8.5l.94-2.06 2.06-.94-2.06-.94L8.5 2.5l-.94 2.06-2.06.94zm10 10l.94 2.06.94-2.06 2.06-.94-2.06-.94-.94-2.06-.94 2.06-2.06.94z\"/><path d=\"M17.41 7.96l-1.37-1.37c-.4-.4-.92-.59-1.43-.59-.52 0-1.04.2-1.43.59L10.3 9.45l-7.72 7.72c-.78.78-.78 2.05 0 2.83L4 21.41c.39.39.9.59 1.41.59.51 0 1.02-.2 1.41-.59l7.78-7.78 2.81-2.81c.8-.78.8-2.07 0-2.86zM5.41 20L4 18.59l7.72-7.72 1.47 1.35L5.41 20z\"/>\n",
              "  </svg>\n",
              "      </button>\n",
              "      \n",
              "  <style>\n",
              "    .colab-df-container {\n",
              "      display:flex;\n",
              "      flex-wrap:wrap;\n",
              "      gap: 12px;\n",
              "    }\n",
              "\n",
              "    .colab-df-convert {\n",
              "      background-color: #E8F0FE;\n",
              "      border: none;\n",
              "      border-radius: 50%;\n",
              "      cursor: pointer;\n",
              "      display: none;\n",
              "      fill: #1967D2;\n",
              "      height: 32px;\n",
              "      padding: 0 0 0 0;\n",
              "      width: 32px;\n",
              "    }\n",
              "\n",
              "    .colab-df-convert:hover {\n",
              "      background-color: #E2EBFA;\n",
              "      box-shadow: 0px 1px 2px rgba(60, 64, 67, 0.3), 0px 1px 3px 1px rgba(60, 64, 67, 0.15);\n",
              "      fill: #174EA6;\n",
              "    }\n",
              "\n",
              "    [theme=dark] .colab-df-convert {\n",
              "      background-color: #3B4455;\n",
              "      fill: #D2E3FC;\n",
              "    }\n",
              "\n",
              "    [theme=dark] .colab-df-convert:hover {\n",
              "      background-color: #434B5C;\n",
              "      box-shadow: 0px 1px 3px 1px rgba(0, 0, 0, 0.15);\n",
              "      filter: drop-shadow(0px 1px 2px rgba(0, 0, 0, 0.3));\n",
              "      fill: #FFFFFF;\n",
              "    }\n",
              "  </style>\n",
              "\n",
              "      <script>\n",
              "        const buttonEl =\n",
              "          document.querySelector('#df-facc227e-2c44-4d03-a016-585c27fa757b button.colab-df-convert');\n",
              "        buttonEl.style.display =\n",
              "          google.colab.kernel.accessAllowed ? 'block' : 'none';\n",
              "\n",
              "        async function convertToInteractive(key) {\n",
              "          const element = document.querySelector('#df-facc227e-2c44-4d03-a016-585c27fa757b');\n",
              "          const dataTable =\n",
              "            await google.colab.kernel.invokeFunction('convertToInteractive',\n",
              "                                                     [key], {});\n",
              "          if (!dataTable) return;\n",
              "\n",
              "          const docLinkHtml = 'Like what you see? Visit the ' +\n",
              "            '<a target=\"_blank\" href=https://colab.research.google.com/notebooks/data_table.ipynb>data table notebook</a>'\n",
              "            + ' to learn more about interactive tables.';\n",
              "          element.innerHTML = '';\n",
              "          dataTable['output_type'] = 'display_data';\n",
              "          await google.colab.output.renderOutput(dataTable, element);\n",
              "          const docLink = document.createElement('div');\n",
              "          docLink.innerHTML = docLinkHtml;\n",
              "          element.appendChild(docLink);\n",
              "        }\n",
              "      </script>\n",
              "    </div>\n",
              "  </div>\n",
              "  "
            ]
          },
          "metadata": {},
          "execution_count": 4
        }
      ]
    },
    {
      "cell_type": "code",
      "source": [
        "train.info()"
      ],
      "metadata": {
        "colab": {
          "base_uri": "https://localhost:8080/"
        },
        "id": "gcf_v1pUdT8e",
        "outputId": "d1c862ab-5c9d-41c8-e597-777e098fd0ad"
      },
      "execution_count": null,
      "outputs": [
        {
          "output_type": "stream",
          "name": "stdout",
          "text": [
            "<class 'pandas.core.frame.DataFrame'>\n",
            "RangeIndex: 19275 entries, 0 to 19274\n",
            "Data columns (total 10 columns):\n",
            " #   Column          Non-Null Count  Dtype  \n",
            "---  ------          --------------  -----  \n",
            " 0   id              19275 non-null  object \n",
            " 1   temperature     19275 non-null  float64\n",
            " 2   pressure        19275 non-null  float64\n",
            " 3   humidity        19275 non-null  float64\n",
            " 4   wind_speed      19275 non-null  float64\n",
            " 5   wind_direction  19275 non-null  float64\n",
            " 6   precipitation   19275 non-null  float64\n",
            " 7   snowing         19275 non-null  bool   \n",
            " 8   cloudiness      19275 non-null  float64\n",
            " 9   target          19275 non-null  float64\n",
            "dtypes: bool(1), float64(8), object(1)\n",
            "memory usage: 1.3+ MB\n"
          ]
        }
      ]
    },
    {
      "cell_type": "code",
      "source": [
        "train.isna().sum()"
      ],
      "metadata": {
        "colab": {
          "base_uri": "https://localhost:8080/"
        },
        "id": "yOgCxjhFdVSu",
        "outputId": "bd0bc4ce-4037-4084-ff19-1cd3c567b482"
      },
      "execution_count": null,
      "outputs": [
        {
          "output_type": "execute_result",
          "data": {
            "text/plain": [
              "id                0\n",
              "temperature       0\n",
              "pressure          0\n",
              "humidity          0\n",
              "wind_speed        0\n",
              "wind_direction    0\n",
              "precipitation     0\n",
              "snowing           0\n",
              "cloudiness        0\n",
              "target            0\n",
              "dtype: int64"
            ]
          },
          "metadata": {},
          "execution_count": 6
        }
      ]
    },
    {
      "cell_type": "code",
      "source": [
        "train = train.drop(['id'], axis= 1)\n",
        "test = test.drop(['id'], axis = 1)"
      ],
      "metadata": {
        "id": "JtW1F-oydWn9"
      },
      "execution_count": 20,
      "outputs": []
    },
    {
      "cell_type": "code",
      "source": [
        "train.describe()"
      ],
      "metadata": {
        "colab": {
          "base_uri": "https://localhost:8080/",
          "height": 300
        },
        "id": "sphNM4-hlyDt",
        "outputId": "78cd6316-9c61-4ef2-eece-1fb8466f64e2"
      },
      "execution_count": null,
      "outputs": [
        {
          "output_type": "execute_result",
          "data": {
            "text/plain": [
              "        temperature       pressure      humidity    wind_speed  \\\n",
              "count  19275.000000   19275.000000  19275.000000  19275.000000   \n",
              "mean      17.288476    1059.825712     68.948763      2.476970   \n",
              "std        7.192604    2544.132430     14.856929      1.359942   \n",
              "min       -0.208137     812.600000     22.600000      0.000000   \n",
              "25%       11.712000    1012.600000     57.800000      1.400000   \n",
              "50%       16.530000    1016.800000     70.800000      2.200000   \n",
              "75%       22.559000    1021.000000     80.800000      3.200000   \n",
              "max       37.058000  201373.000000    100.000000     29.800000   \n",
              "\n",
              "       wind_direction  precipitation    cloudiness        target  \n",
              "count    19275.000000   19275.000000  19275.000000  19275.000000  \n",
              "mean       166.578179       0.076572     25.749748      5.477028  \n",
              "std         57.313099       0.193110     17.628612      3.217581  \n",
              "min          0.000000       0.000000      0.000000      0.000000  \n",
              "25%        127.000000       0.000000     12.000000      2.956000  \n",
              "50%        166.600000       0.000000     23.000000      4.837000  \n",
              "75%        208.000000       0.060000     37.000000      7.436500  \n",
              "max        338.000000       3.180000     93.600000     17.344000  "
            ],
            "text/html": [
              "\n",
              "  <div id=\"df-3bcb49f8-69c5-4558-b728-a7d8db75113c\">\n",
              "    <div class=\"colab-df-container\">\n",
              "      <div>\n",
              "<style scoped>\n",
              "    .dataframe tbody tr th:only-of-type {\n",
              "        vertical-align: middle;\n",
              "    }\n",
              "\n",
              "    .dataframe tbody tr th {\n",
              "        vertical-align: top;\n",
              "    }\n",
              "\n",
              "    .dataframe thead th {\n",
              "        text-align: right;\n",
              "    }\n",
              "</style>\n",
              "<table border=\"1\" class=\"dataframe\">\n",
              "  <thead>\n",
              "    <tr style=\"text-align: right;\">\n",
              "      <th></th>\n",
              "      <th>temperature</th>\n",
              "      <th>pressure</th>\n",
              "      <th>humidity</th>\n",
              "      <th>wind_speed</th>\n",
              "      <th>wind_direction</th>\n",
              "      <th>precipitation</th>\n",
              "      <th>cloudiness</th>\n",
              "      <th>target</th>\n",
              "    </tr>\n",
              "  </thead>\n",
              "  <tbody>\n",
              "    <tr>\n",
              "      <th>count</th>\n",
              "      <td>19275.000000</td>\n",
              "      <td>19275.000000</td>\n",
              "      <td>19275.000000</td>\n",
              "      <td>19275.000000</td>\n",
              "      <td>19275.000000</td>\n",
              "      <td>19275.000000</td>\n",
              "      <td>19275.000000</td>\n",
              "      <td>19275.000000</td>\n",
              "    </tr>\n",
              "    <tr>\n",
              "      <th>mean</th>\n",
              "      <td>17.288476</td>\n",
              "      <td>1059.825712</td>\n",
              "      <td>68.948763</td>\n",
              "      <td>2.476970</td>\n",
              "      <td>166.578179</td>\n",
              "      <td>0.076572</td>\n",
              "      <td>25.749748</td>\n",
              "      <td>5.477028</td>\n",
              "    </tr>\n",
              "    <tr>\n",
              "      <th>std</th>\n",
              "      <td>7.192604</td>\n",
              "      <td>2544.132430</td>\n",
              "      <td>14.856929</td>\n",
              "      <td>1.359942</td>\n",
              "      <td>57.313099</td>\n",
              "      <td>0.193110</td>\n",
              "      <td>17.628612</td>\n",
              "      <td>3.217581</td>\n",
              "    </tr>\n",
              "    <tr>\n",
              "      <th>min</th>\n",
              "      <td>-0.208137</td>\n",
              "      <td>812.600000</td>\n",
              "      <td>22.600000</td>\n",
              "      <td>0.000000</td>\n",
              "      <td>0.000000</td>\n",
              "      <td>0.000000</td>\n",
              "      <td>0.000000</td>\n",
              "      <td>0.000000</td>\n",
              "    </tr>\n",
              "    <tr>\n",
              "      <th>25%</th>\n",
              "      <td>11.712000</td>\n",
              "      <td>1012.600000</td>\n",
              "      <td>57.800000</td>\n",
              "      <td>1.400000</td>\n",
              "      <td>127.000000</td>\n",
              "      <td>0.000000</td>\n",
              "      <td>12.000000</td>\n",
              "      <td>2.956000</td>\n",
              "    </tr>\n",
              "    <tr>\n",
              "      <th>50%</th>\n",
              "      <td>16.530000</td>\n",
              "      <td>1016.800000</td>\n",
              "      <td>70.800000</td>\n",
              "      <td>2.200000</td>\n",
              "      <td>166.600000</td>\n",
              "      <td>0.000000</td>\n",
              "      <td>23.000000</td>\n",
              "      <td>4.837000</td>\n",
              "    </tr>\n",
              "    <tr>\n",
              "      <th>75%</th>\n",
              "      <td>22.559000</td>\n",
              "      <td>1021.000000</td>\n",
              "      <td>80.800000</td>\n",
              "      <td>3.200000</td>\n",
              "      <td>208.000000</td>\n",
              "      <td>0.060000</td>\n",
              "      <td>37.000000</td>\n",
              "      <td>7.436500</td>\n",
              "    </tr>\n",
              "    <tr>\n",
              "      <th>max</th>\n",
              "      <td>37.058000</td>\n",
              "      <td>201373.000000</td>\n",
              "      <td>100.000000</td>\n",
              "      <td>29.800000</td>\n",
              "      <td>338.000000</td>\n",
              "      <td>3.180000</td>\n",
              "      <td>93.600000</td>\n",
              "      <td>17.344000</td>\n",
              "    </tr>\n",
              "  </tbody>\n",
              "</table>\n",
              "</div>\n",
              "      <button class=\"colab-df-convert\" onclick=\"convertToInteractive('df-3bcb49f8-69c5-4558-b728-a7d8db75113c')\"\n",
              "              title=\"Convert this dataframe to an interactive table.\"\n",
              "              style=\"display:none;\">\n",
              "        \n",
              "  <svg xmlns=\"http://www.w3.org/2000/svg\" height=\"24px\"viewBox=\"0 0 24 24\"\n",
              "       width=\"24px\">\n",
              "    <path d=\"M0 0h24v24H0V0z\" fill=\"none\"/>\n",
              "    <path d=\"M18.56 5.44l.94 2.06.94-2.06 2.06-.94-2.06-.94-.94-2.06-.94 2.06-2.06.94zm-11 1L8.5 8.5l.94-2.06 2.06-.94-2.06-.94L8.5 2.5l-.94 2.06-2.06.94zm10 10l.94 2.06.94-2.06 2.06-.94-2.06-.94-.94-2.06-.94 2.06-2.06.94z\"/><path d=\"M17.41 7.96l-1.37-1.37c-.4-.4-.92-.59-1.43-.59-.52 0-1.04.2-1.43.59L10.3 9.45l-7.72 7.72c-.78.78-.78 2.05 0 2.83L4 21.41c.39.39.9.59 1.41.59.51 0 1.02-.2 1.41-.59l7.78-7.78 2.81-2.81c.8-.78.8-2.07 0-2.86zM5.41 20L4 18.59l7.72-7.72 1.47 1.35L5.41 20z\"/>\n",
              "  </svg>\n",
              "      </button>\n",
              "      \n",
              "  <style>\n",
              "    .colab-df-container {\n",
              "      display:flex;\n",
              "      flex-wrap:wrap;\n",
              "      gap: 12px;\n",
              "    }\n",
              "\n",
              "    .colab-df-convert {\n",
              "      background-color: #E8F0FE;\n",
              "      border: none;\n",
              "      border-radius: 50%;\n",
              "      cursor: pointer;\n",
              "      display: none;\n",
              "      fill: #1967D2;\n",
              "      height: 32px;\n",
              "      padding: 0 0 0 0;\n",
              "      width: 32px;\n",
              "    }\n",
              "\n",
              "    .colab-df-convert:hover {\n",
              "      background-color: #E2EBFA;\n",
              "      box-shadow: 0px 1px 2px rgba(60, 64, 67, 0.3), 0px 1px 3px 1px rgba(60, 64, 67, 0.15);\n",
              "      fill: #174EA6;\n",
              "    }\n",
              "\n",
              "    [theme=dark] .colab-df-convert {\n",
              "      background-color: #3B4455;\n",
              "      fill: #D2E3FC;\n",
              "    }\n",
              "\n",
              "    [theme=dark] .colab-df-convert:hover {\n",
              "      background-color: #434B5C;\n",
              "      box-shadow: 0px 1px 3px 1px rgba(0, 0, 0, 0.15);\n",
              "      filter: drop-shadow(0px 1px 2px rgba(0, 0, 0, 0.3));\n",
              "      fill: #FFFFFF;\n",
              "    }\n",
              "  </style>\n",
              "\n",
              "      <script>\n",
              "        const buttonEl =\n",
              "          document.querySelector('#df-3bcb49f8-69c5-4558-b728-a7d8db75113c button.colab-df-convert');\n",
              "        buttonEl.style.display =\n",
              "          google.colab.kernel.accessAllowed ? 'block' : 'none';\n",
              "\n",
              "        async function convertToInteractive(key) {\n",
              "          const element = document.querySelector('#df-3bcb49f8-69c5-4558-b728-a7d8db75113c');\n",
              "          const dataTable =\n",
              "            await google.colab.kernel.invokeFunction('convertToInteractive',\n",
              "                                                     [key], {});\n",
              "          if (!dataTable) return;\n",
              "\n",
              "          const docLinkHtml = 'Like what you see? Visit the ' +\n",
              "            '<a target=\"_blank\" href=https://colab.research.google.com/notebooks/data_table.ipynb>data table notebook</a>'\n",
              "            + ' to learn more about interactive tables.';\n",
              "          element.innerHTML = '';\n",
              "          dataTable['output_type'] = 'display_data';\n",
              "          await google.colab.output.renderOutput(dataTable, element);\n",
              "          const docLink = document.createElement('div');\n",
              "          docLink.innerHTML = docLinkHtml;\n",
              "          element.appendChild(docLink);\n",
              "        }\n",
              "      </script>\n",
              "    </div>\n",
              "  </div>\n",
              "  "
            ]
          },
          "metadata": {},
          "execution_count": 8
        }
      ]
    },
    {
      "cell_type": "code",
      "source": [
        "sns.displot(data = train, x ='target', kde = True)"
      ],
      "metadata": {
        "colab": {
          "base_uri": "https://localhost:8080/",
          "height": 387
        },
        "id": "LWO3jNdUmye0",
        "outputId": "f06a4f8d-89fd-4eea-e545-bd22b6341550"
      },
      "execution_count": null,
      "outputs": [
        {
          "output_type": "execute_result",
          "data": {
            "text/plain": [
              "<seaborn.axisgrid.FacetGrid at 0x7efe0113b400>"
            ]
          },
          "metadata": {},
          "execution_count": 9
        },
        {
          "output_type": "display_data",
          "data": {
            "text/plain": [
              "<Figure size 360x360 with 1 Axes>"
            ],
            "image/png": "[encoded data removed]"
          },
          "metadata": {
            "needs_background": "light"
          }
        }
      ]
    },
    {
      "cell_type": "code",
      "source": [
        "sns.displot(data = train, x ='temperature', kde = True)"
      ],
      "metadata": {
        "colab": {
          "base_uri": "https://localhost:8080/",
          "height": 387
        },
        "id": "2IV6qpjidqoa",
        "outputId": "32ecdfa1-4319-43f2-9ede-1a2ce99d5bed"
      },
      "execution_count": null,
      "outputs": [
        {
          "output_type": "execute_result",
          "data": {
            "text/plain": [
              "<seaborn.axisgrid.FacetGrid at 0x7efdcf545f40>"
            ]
          },
          "metadata": {},
          "execution_count": 10
        },
        {
          "output_type": "display_data",
          "data": {
            "text/plain": [
              "<Figure size 360x360 with 1 Axes>"
            ],
            "image/png": "[encoded data removed]"
          },
          "metadata": {
            "needs_background": "light"
          }
        }
      ]
    },
    {
      "cell_type": "code",
      "source": [
        "sns.regplot(x = 'temperature', y= 'target',data = train, line_kws = {'color':'blue'})"
      ],
      "metadata": {
        "colab": {
          "base_uri": "https://localhost:8080/",
          "height": 297
        },
        "id": "xG5tFRWFhoOi",
        "outputId": "4b52dc05-46d5-4cf1-ba59-5393cfed1a4d"
      },
      "execution_count": null,
      "outputs": [
        {
          "output_type": "execute_result",
          "data": {
            "text/plain": [
              "<matplotlib.axes._subplots.AxesSubplot at 0x7efdcf004ca0>"
            ]
          },
          "metadata": {},
          "execution_count": 11
        },
        {
          "output_type": "display_data",
          "data": {
            "text/plain": [
              "<Figure size 432x288 with 1 Axes>"
            ],
            "image/png": "[encoded data removed]"
          },
          "metadata": {
            "needs_background": "light"
          }
        }
      ]
    },
    {
      "cell_type": "code",
      "source": [
        "sns.regplot(x = 'pressure', y = 'target', data = train, line_kws = {'color': 'blue'})"
      ],
      "metadata": {
        "colab": {
          "base_uri": "https://localhost:8080/",
          "height": 297
        },
        "id": "OuLJcLKUh33P",
        "outputId": "2d4d8e1d-ca55-469d-d4fe-d86f447c1740"
      },
      "execution_count": null,
      "outputs": [
        {
          "output_type": "execute_result",
          "data": {
            "text/plain": [
              "<matplotlib.axes._subplots.AxesSubplot at 0x7efdcef61a00>"
            ]
          },
          "metadata": {},
          "execution_count": 12
        },
        {
          "output_type": "display_data",
          "data": {
            "text/plain": [
              "<Figure size 432x288 with 1 Axes>"
            ],
            "image/png": "[encoded data removed]"
          },
          "metadata": {
            "needs_background": "light"
          }
        }
      ]
    },
    {
      "cell_type": "code",
      "source": [
        "sns.kdeplot(x = 'pressure', data = train)\n",
        "sns.rugplot(x = 'pressure', data = train)"
      ],
      "metadata": {
        "colab": {
          "base_uri": "https://localhost:8080/",
          "height": 297
        },
        "id": "wND9Qc1RjR1-",
        "outputId": "5bfe8aa5-c0f9-4cd3-ca71-da89df6ee7c8"
      },
      "execution_count": null,
      "outputs": [
        {
          "output_type": "execute_result",
          "data": {
            "text/plain": [
              "<matplotlib.axes._subplots.AxesSubplot at 0x7efdcef45b20>"
            ]
          },
          "metadata": {},
          "execution_count": 13
        },
        {
          "output_type": "display_data",
          "data": {
            "text/plain": [
              "<Figure size 432x288 with 1 Axes>"
            ],
            "image/png": "[encoded data removed]"
          },
          "metadata": {
            "needs_background": "light"
          }
        }
      ]
    },
    {
      "cell_type": "code",
      "source": [
        "train[train['pressure']>=150000]\n",
        "index_pre = train[train['pressure']>=150000].index"
      ],
      "metadata": {
        "id": "4YuPkcvKnNYI"
      },
      "execution_count": 29,
      "outputs": []
    },
    {
      "cell_type": "code",
      "source": [
        "train = train.drop(index = index_pre, axis = 0)"
      ],
      "metadata": {
        "id": "wqFXzF2fnNSQ"
      },
      "execution_count": 30,
      "outputs": []
    },
    {
      "cell_type": "code",
      "source": [
        "sns.displot(x = 'humidity', data = train, kde = True)"
      ],
      "metadata": {
        "id": "cdg6rns2kFqe",
        "colab": {
          "base_uri": "https://localhost:8080/",
          "height": 387
        },
        "outputId": "6b06e197-6dbd-42c7-a841-dccb164f0143"
      },
      "execution_count": null,
      "outputs": [
        {
          "output_type": "execute_result",
          "data": {
            "text/plain": [
              "<seaborn.axisgrid.FacetGrid at 0x7efdce4d2fa0>"
            ]
          },
          "metadata": {},
          "execution_count": 14
        },
        {
          "output_type": "display_data",
          "data": {
            "text/plain": [
              "<Figure size 360x360 with 1 Axes>"
            ],
            "image/png": "[encoded data removed]"
          },
          "metadata": {
            "needs_background": "light"
          }
        }
      ]
    },
    {
      "cell_type": "code",
      "source": [
        "sns.regplot(x = 'humidity', y = 'target', data = train, line_kws = {'color': 'blue'})"
      ],
      "metadata": {
        "colab": {
          "base_uri": "https://localhost:8080/",
          "height": 297
        },
        "id": "AmAkjgFYiJc0",
        "outputId": "eb226a90-f6a7-4fc3-e602-070c508bd316"
      },
      "execution_count": null,
      "outputs": [
        {
          "output_type": "execute_result",
          "data": {
            "text/plain": [
              "<matplotlib.axes._subplots.AxesSubplot at 0x7efdce43e610>"
            ]
          },
          "metadata": {},
          "execution_count": 15
        },
        {
          "output_type": "display_data",
          "data": {
            "text/plain": [
              "<Figure size 432x288 with 1 Axes>"
            ],
            "image/png": "[encoded data removed]"
          },
          "metadata": {
            "needs_background": "light"
          }
        }
      ]
    },
    {
      "cell_type": "code",
      "source": [
        "sns.regplot(x='wind_speed', y= 'target',data= train, line_kws = {'color' : 'blue'})"
      ],
      "metadata": {
        "colab": {
          "base_uri": "https://localhost:8080/",
          "height": 298
        },
        "id": "QZsYn6E7iUz_",
        "outputId": "ea537446-09b9-46c5-f558-77d74e1c09e4"
      },
      "execution_count": null,
      "outputs": [
        {
          "output_type": "execute_result",
          "data": {
            "text/plain": [
              "<matplotlib.axes._subplots.AxesSubplot at 0x7efdce3fc5e0>"
            ]
          },
          "metadata": {},
          "execution_count": 16
        },
        {
          "output_type": "display_data",
          "data": {
            "text/plain": [
              "<Figure size 432x288 with 1 Axes>"
            ],
            "image/png": "[encoded data removed]"
          },
          "metadata": {
            "needs_background": "light"
          }
        }
      ]
    },
    {
      "cell_type": "code",
      "source": [
        "sns.regplot(x= 'wind_direction', y = 'target', data =train, line_kws = {'color' : 'blue'})"
      ],
      "metadata": {
        "colab": {
          "base_uri": "https://localhost:8080/",
          "height": 298
        },
        "id": "MVA4djFGjpaA",
        "outputId": "37feb575-cb8f-4bdb-9652-424eb5dd2e8b"
      },
      "execution_count": null,
      "outputs": [
        {
          "output_type": "execute_result",
          "data": {
            "text/plain": [
              "<matplotlib.axes._subplots.AxesSubplot at 0x7efdce376250>"
            ]
          },
          "metadata": {},
          "execution_count": 17
        },
        {
          "output_type": "display_data",
          "data": {
            "text/plain": [
              "<Figure size 432x288 with 1 Axes>"
            ],
            "image/png": "[encoded data removed]"
          },
          "metadata": {
            "needs_background": "light"
          }
        }
      ]
    },
    {
      "cell_type": "code",
      "source": [
        "sns.regplot(x= 'precipitation', y = 'target', data = train, line_kws = {'color' : 'blue'})"
      ],
      "metadata": {
        "colab": {
          "base_uri": "https://localhost:8080/",
          "height": 297
        },
        "id": "BCBgFEeyj2FE",
        "outputId": "4a7615e4-c99d-41ca-cda6-a0ce21d7e14d"
      },
      "execution_count": null,
      "outputs": [
        {
          "output_type": "execute_result",
          "data": {
            "text/plain": [
              "<matplotlib.axes._subplots.AxesSubplot at 0x7efdce2e2970>"
            ]
          },
          "metadata": {},
          "execution_count": 18
        },
        {
          "output_type": "display_data",
          "data": {
            "text/plain": [
              "<Figure size 432x288 with 1 Axes>"
            ],
            "image/png": "[encoded data removed]"
          },
          "metadata": {
            "needs_background": "light"
          }
        }
      ]
    },
    {
      "cell_type": "code",
      "source": [
        "sns.regplot(x = 'cloudiness', y= 'target', data = train, line_kws = {'color': 'blue'})"
      ],
      "metadata": {
        "colab": {
          "base_uri": "https://localhost:8080/",
          "height": 297
        },
        "id": "RYabzEs7lsBV",
        "outputId": "f5a446a9-20c7-4c5b-bf7a-e455ae5d655f"
      },
      "execution_count": null,
      "outputs": [
        {
          "output_type": "execute_result",
          "data": {
            "text/plain": [
              "<matplotlib.axes._subplots.AxesSubplot at 0x7efdce374850>"
            ]
          },
          "metadata": {},
          "execution_count": 19
        },
        {
          "output_type": "display_data",
          "data": {
            "text/plain": [
              "<Figure size 432x288 with 1 Axes>"
            ],
            "image/png": "[encoded data removed]"
          },
          "metadata": {
            "needs_background": "light"
          }
        }
      ]
    },
    {
      "cell_type": "code",
      "source": [
        "sns.countplot(x= 'snowing', data = train)"
      ],
      "metadata": {
        "colab": {
          "base_uri": "https://localhost:8080/",
          "height": 300
        },
        "id": "TwcnDgW7mGx0",
        "outputId": "0ee78da8-fcc2-41e8-ab95-65dd21d9cfe3"
      },
      "execution_count": null,
      "outputs": [
        {
          "output_type": "execute_result",
          "data": {
            "text/plain": [
              "<matplotlib.axes._subplots.AxesSubplot at 0x7efdce284df0>"
            ]
          },
          "metadata": {},
          "execution_count": 20
        },
        {
          "output_type": "display_data",
          "data": {
            "text/plain": [
              "<Figure size 432x288 with 1 Axes>"
            ],
            "image/png": "[encoded data removed]"
          },
          "metadata": {
            "needs_background": "light"
          }
        }
      ]
    },
    {
      "cell_type": "code",
      "source": [
        "train.snowing.value_counts()"
      ],
      "metadata": {
        "colab": {
          "base_uri": "https://localhost:8080/"
        },
        "id": "NGWcwi5-nANF",
        "outputId": "c439b448-e2e4-4a94-9ee5-1c822f4b9e97"
      },
      "execution_count": null,
      "outputs": [
        {
          "output_type": "execute_result",
          "data": {
            "text/plain": [
              "False    19147\n",
              "True       125\n",
              "Name: snowing, dtype: int64"
            ]
          },
          "metadata": {},
          "execution_count": 25
        }
      ]
    },
    {
      "cell_type": "code",
      "source": [
        "sns.boxplot(x= 'snowing', y = 'target', data = train)"
      ],
      "metadata": {
        "colab": {
          "base_uri": "https://localhost:8080/",
          "height": 297
        },
        "id": "4RQwlhHnnAKd",
        "outputId": "05c2be96-f956-478e-fe51-a942f7a0dbae"
      },
      "execution_count": null,
      "outputs": [
        {
          "output_type": "execute_result",
          "data": {
            "text/plain": [
              "<matplotlib.axes._subplots.AxesSubplot at 0x7efdcd2547f0>"
            ]
          },
          "metadata": {},
          "execution_count": 27
        },
        {
          "output_type": "display_data",
          "data": {
            "text/plain": [
              "<Figure size 432x288 with 1 Axes>"
            ],
            "image/png": "[encoded data removed]"
          },
          "metadata": {
            "needs_background": "light"
          }
        }
      ]
    },
    {
      "cell_type": "code",
      "source": [
        "plt.figure(figsize = (15,10))\n",
        "sns.heatmap(train.corr(), cmap = 'Blues', annot = True)"
      ],
      "metadata": {
        "colab": {
          "base_uri": "https://localhost:8080/",
          "height": 614
        },
        "id": "NMZt_KhYnAHo",
        "outputId": "14ce2297-49e6-4b14-b1c0-cc0e3e80a82b"
      },
      "execution_count": null,
      "outputs": [
        {
          "output_type": "execute_result",
          "data": {
            "text/plain": [
              "<matplotlib.axes._subplots.AxesSubplot at 0x7efdcd23cf70>"
            ]
          },
          "metadata": {},
          "execution_count": 31
        },
        {
          "output_type": "display_data",
          "data": {
            "text/plain": [
              "<Figure size 1080x720 with 2 Axes>"
            ],
            "image/png": "[encoded data removed]"
          },
          "metadata": {
            "needs_background": "light"
          }
        }
      ]
    },
    {
      "cell_type": "code",
      "source": [
        "from xgboost import XGBRegressor"
      ],
      "metadata": {
        "id": "uZeBQFTBmree"
      },
      "execution_count": 4,
      "outputs": []
    },
    {
      "cell_type": "code",
      "source": [
        "from lightgbm import LGBMRegressor"
      ],
      "metadata": {
        "id": "zUsuYPkXr9pS"
      },
      "execution_count": 5,
      "outputs": []
    },
    {
      "cell_type": "code",
      "source": [
        "from sklearn.metrics import mean_absolute_error"
      ],
      "metadata": {
        "id": "nzwD4oZLrakl"
      },
      "execution_count": 13,
      "outputs": []
    },
    {
      "cell_type": "code",
      "source": [
        "from sklearn.model_selection import train_test_split"
      ],
      "metadata": {
        "id": "tM8vutl3rgVV"
      },
      "execution_count": 11,
      "outputs": []
    },
    {
      "cell_type": "code",
      "source": [
        "X_train, X_valid, y_train, y_valid = train_test_split(X,y,test_size= 0.2)"
      ],
      "metadata": {
        "id": "E3i7UY4x4MLy"
      },
      "execution_count": 52,
      "outputs": []
    },
    {
      "cell_type": "code",
      "source": [
        "from sklearn.ensemble import VotingRegressor"
      ],
      "metadata": {
        "id": "lm8GF4RN0rmk"
      },
      "execution_count": 6,
      "outputs": []
    },
    {
      "cell_type": "code",
      "source": [
        "from sklearn.ensemble import RandomForestRegressor"
      ],
      "metadata": {
        "id": "l_KmaHOf20Vi"
      },
      "execution_count": 7,
      "outputs": []
    },
    {
      "cell_type": "code",
      "source": [
        "X = train.drop(['target'], axis =1)\n",
        "y = train['target']"
      ],
      "metadata": {
        "id": "-LO2ojWnngPE"
      },
      "execution_count": 31,
      "outputs": []
    },
    {
      "cell_type": "code",
      "source": [
        "xgb = XGBRegressor()"
      ],
      "metadata": {
        "id": "rsINhavznbzZ"
      },
      "execution_count": 44,
      "outputs": []
    },
    {
      "cell_type": "code",
      "source": [
        "lgb = LGBMRegressor()"
      ],
      "metadata": {
        "id": "TcWKyU2RsmD1"
      },
      "execution_count": 38,
      "outputs": []
    },
    {
      "cell_type": "code",
      "source": [
        "rf_clf = RandomForestRegressor()"
      ],
      "metadata": {
        "id": "RXtIfz5S3HxT"
      },
      "execution_count": 15,
      "outputs": []
    },
    {
      "cell_type": "code",
      "source": [
        "!pip install optuna\n",
        "import optuna"
      ],
      "metadata": {
        "id": "6vbedKDFtBwh"
      },
      "execution_count": null,
      "outputs": []
    },
    {
      "cell_type": "code",
      "source": [
        "def objective(trial):\n",
        "    params = {\n",
        "        'objective': 'regression',\n",
        "        'random_seed': 1234,\n",
        "        'learning_rate':0.05,\n",
        "        'num_leave': trial.suggest_int('num_leaves', 4,64),\n",
        "        'max_bin': trial.suggest_int('max_bin', 50,200),\n",
        "        'bagging_fraction': trial.suggest_uniform('bagging_fraction', 0.4,0.9),\n",
        "        'bagging_freq':trial.suggest_int('bagging_freq',1,10),\n",
        "        'feature_fraction':trial.suggest_uniform('feture_fraction', 0.4,0.9),\n",
        "        'min_data_in_leaf':trial.suggest_int('min_data_in_leaf',2,16),\n",
        "        'min_data_in_leaf': trial.suggest_int('min_data_in_leaf',2,16)\n",
        "    }\n",
        "    lgb_train = lgb.Dataset(X_train, y_train)\n",
        "    lgb_eval = lgb.Dataset(X_valid, y_valid, reference = lgb_train)\n",
        "    \n",
        "    model_lgb = lgb.train(params, lgb_train, valid_sets = lgb_eval, num_boost_round = 100, early_stopping_rounds = 20, verbose_eval = 10)\n",
        "    y_pred = model_lgb.predict(X_valid, num_iteration = model_lgb.best_iteration)\n",
        "    score = np.sqrt(mean_absolute_error(y_valid, y_pred))\n",
        "    return score\n",
        "\n",
        "study = optuna.create_study(sampler = optuna.samplers.RandomSampler(seed= 0))\n",
        "study.optimize(objective, n_trials = 50)\n",
        "study.best_params"
      ],
      "metadata": {
        "colab": {
          "base_uri": "https://localhost:8080/"
        },
        "id": "QG42SvjPr4G8",
        "outputId": "99272e3c-f8a6-4b53-b6af-3f1524ce1da8"
      },
      "execution_count": null,
      "outputs": [
        {
          "output_type": "stream",
          "name": "stderr",
          "text": [
            "\u001b[32m[I 2023-02-14 12:05:53,736]\u001b[0m A new study created in memory with name: no-name-f1511b1d-1d28-4030-aa57-dd56a51fc139\u001b[0m\n",
            "<ipython-input-78-ba9fd7c9ef7c>:8: FutureWarning: suggest_uniform has been deprecated in v3.0.0. This feature will be removed in v6.0.0. See https://github.com/optuna/optuna/releases/tag/v3.0.0. Use :func:`~optuna.trial.Trial.suggest_float` instead.\n",
            "  'bagging_fraction': trial.suggest_uniform('bagging_fraction', 0.4,0.9),\n",
            "<ipython-input-78-ba9fd7c9ef7c>:10: FutureWarning: suggest_uniform has been deprecated in v3.0.0. This feature will be removed in v6.0.0. See https://github.com/optuna/optuna/releases/tag/v3.0.0. Use :func:`~optuna.trial.Trial.suggest_float` instead.\n",
            "  'feature_fraction':trial.suggest_uniform('feture_fraction', 0.4,0.9),\n"
          ]
        },
        {
          "output_type": "stream",
          "name": "stdout",
          "text": [
            "Training until validation scores don't improve for 20 rounds.\n",
            "[10]\tvalid_0's l2: 9.54419\n",
            "[20]\tvalid_0's l2: 9.04938\n",
            "[30]\tvalid_0's l2: 8.79835\n",
            "[40]\tvalid_0's l2: 8.61207\n",
            "[50]\tvalid_0's l2: 8.49712\n",
            "[60]\tvalid_0's l2: 8.4156\n",
            "[70]\tvalid_0's l2: 8.34677\n"
          ]
        },
        {
          "output_type": "stream",
          "name": "stderr",
          "text": [
            "\u001b[32m[I 2023-02-14 12:05:54,108]\u001b[0m Trial 0 finished with value: 1.5117790411569028 and parameters: {'num_leaves': 37, 'max_bin': 157, 'bagging_fraction': 0.7013816880358219, 'bagging_freq': 6, 'feture_fraction': 0.6118273996694523, 'min_data_in_leaf': 11}. Best is trial 0 with value: 1.5117790411569028.\u001b[0m\n"
          ]
        },
        {
          "output_type": "stream",
          "name": "stdout",
          "text": [
            "[80]\tvalid_0's l2: 8.2901\n",
            "[90]\tvalid_0's l2: 8.25608\n",
            "[100]\tvalid_0's l2: 8.21701\n",
            "Did not meet early stopping. Best iteration is:\n",
            "[99]\tvalid_0's l2: 8.21701\n",
            "Training until validation scores don't improve for 20 rounds.\n",
            "[10]\tvalid_0's l2: 9.42792\n",
            "[20]\tvalid_0's l2: 8.86524\n"
          ]
        },
        {
          "output_type": "stream",
          "name": "stderr",
          "text": [
            "<ipython-input-78-ba9fd7c9ef7c>:8: FutureWarning: suggest_uniform has been deprecated in v3.0.0. This feature will be removed in v6.0.0. See https://github.com/optuna/optuna/releases/tag/v3.0.0. Use :func:`~optuna.trial.Trial.suggest_float` instead.\n",
            "  'bagging_fraction': trial.suggest_uniform('bagging_fraction', 0.4,0.9),\n",
            "<ipython-input-78-ba9fd7c9ef7c>:10: FutureWarning: suggest_uniform has been deprecated in v3.0.0. This feature will be removed in v6.0.0. See https://github.com/optuna/optuna/releases/tag/v3.0.0. Use :func:`~optuna.trial.Trial.suggest_float` instead.\n",
            "  'feature_fraction':trial.suggest_uniform('feture_fraction', 0.4,0.9),\n"
          ]
        },
        {
          "output_type": "stream",
          "name": "stdout",
          "text": [
            "[30]\tvalid_0's l2: 8.56108\n",
            "[40]\tvalid_0's l2: 8.39887\n",
            "[50]\tvalid_0's l2: 8.29841\n",
            "[60]\tvalid_0's l2: 8.19833\n",
            "[70]\tvalid_0's l2: 8.14369\n",
            "[80]\tvalid_0's l2: 8.08831\n",
            "[90]\tvalid_0's l2: 8.05377\n"
          ]
        },
        {
          "output_type": "stream",
          "name": "stderr",
          "text": [
            "\u001b[32m[I 2023-02-14 12:05:54,492]\u001b[0m Trial 1 finished with value: 1.5017770569298272 and parameters: {'num_leaves': 30, 'max_bin': 184, 'bagging_fraction': 0.8818313802505147, 'bagging_freq': 4, 'feture_fraction': 0.7958625190413323, 'min_data_in_leaf': 9}. Best is trial 1 with value: 1.5017770569298272.\u001b[0m\n"
          ]
        },
        {
          "output_type": "stream",
          "name": "stdout",
          "text": [
            "[100]\tvalid_0's l2: 8.02614\n",
            "Did not meet early stopping. Best iteration is:\n",
            "[100]\tvalid_0's l2: 8.02614\n",
            "Training until validation scores don't improve for 20 rounds.\n",
            "[10]\tvalid_0's l2: 9.69767\n",
            "[20]\tvalid_0's l2: 9.23793\n",
            "[30]\tvalid_0's l2: 8.95588\n",
            "[40]\tvalid_0's l2: 8.75883\n"
          ]
        },
        {
          "output_type": "stream",
          "name": "stderr",
          "text": [
            "<ipython-input-78-ba9fd7c9ef7c>:8: FutureWarning: suggest_uniform has been deprecated in v3.0.0. This feature will be removed in v6.0.0. See https://github.com/optuna/optuna/releases/tag/v3.0.0. Use :func:`~optuna.trial.Trial.suggest_float` instead.\n",
            "  'bagging_fraction': trial.suggest_uniform('bagging_fraction', 0.4,0.9),\n",
            "<ipython-input-78-ba9fd7c9ef7c>:10: FutureWarning: suggest_uniform has been deprecated in v3.0.0. This feature will be removed in v6.0.0. See https://github.com/optuna/optuna/releases/tag/v3.0.0. Use :func:`~optuna.trial.Trial.suggest_float` instead.\n",
            "  'feature_fraction':trial.suggest_uniform('feture_fraction', 0.4,0.9),\n",
            "\u001b[32m[I 2023-02-14 12:05:54,832]\u001b[0m Trial 2 finished with value: 1.5187268182651268 and parameters: {'num_leaves': 38, 'max_bin': 189, 'bagging_fraction': 0.4355180290989435, 'bagging_freq': 1, 'feture_fraction': 0.4101091987201629, 'min_data_in_leaf': 14}. Best is trial 1 with value: 1.5017770569298272.\u001b[0m\n"
          ]
        },
        {
          "output_type": "stream",
          "name": "stdout",
          "text": [
            "[50]\tvalid_0's l2: 8.61135\n",
            "[60]\tvalid_0's l2: 8.53319\n",
            "[70]\tvalid_0's l2: 8.46211\n",
            "[80]\tvalid_0's l2: 8.4033\n",
            "[90]\tvalid_0's l2: 8.35381\n",
            "[100]\tvalid_0's l2: 8.3295\n",
            "Did not meet early stopping. Best iteration is:\n",
            "[100]\tvalid_0's l2: 8.3295\n"
          ]
        },
        {
          "output_type": "stream",
          "name": "stderr",
          "text": [
            "<ipython-input-78-ba9fd7c9ef7c>:8: FutureWarning: suggest_uniform has been deprecated in v3.0.0. This feature will be removed in v6.0.0. See https://github.com/optuna/optuna/releases/tag/v3.0.0. Use :func:`~optuna.trial.Trial.suggest_float` instead.\n",
            "  'bagging_fraction': trial.suggest_uniform('bagging_fraction', 0.4,0.9),\n",
            "<ipython-input-78-ba9fd7c9ef7c>:10: FutureWarning: suggest_uniform has been deprecated in v3.0.0. This feature will be removed in v6.0.0. See https://github.com/optuna/optuna/releases/tag/v3.0.0. Use :func:`~optuna.trial.Trial.suggest_float` instead.\n",
            "  'feature_fraction':trial.suggest_uniform('feture_fraction', 0.4,0.9),\n"
          ]
        },
        {
          "output_type": "stream",
          "name": "stdout",
          "text": [
            "Training until validation scores don't improve for 20 rounds.\n",
            "[10]\tvalid_0's l2: 9.51225\n",
            "[20]\tvalid_0's l2: 8.93222\n",
            "[30]\tvalid_0's l2: 8.61432\n",
            "[40]\tvalid_0's l2: 8.44104\n",
            "[50]\tvalid_0's l2: 8.32766\n",
            "[60]\tvalid_0's l2: 8.24625\n",
            "[70]\tvalid_0's l2: 8.16987\n"
          ]
        },
        {
          "output_type": "stream",
          "name": "stderr",
          "text": [
            "\u001b[32m[I 2023-02-14 12:05:55,205]\u001b[0m Trial 3 finished with value: 1.5033412058291322 and parameters: {'num_leaves': 51, 'max_bin': 181, 'bagging_fraction': 0.8893091711163821, 'bagging_freq': 8, 'feture_fraction': 0.630739681126466, 'min_data_in_leaf': 13}. Best is trial 1 with value: 1.5017770569298272.\u001b[0m\n"
          ]
        },
        {
          "output_type": "stream",
          "name": "stdout",
          "text": [
            "[80]\tvalid_0's l2: 8.13259\n",
            "[90]\tvalid_0's l2: 8.0785\n",
            "[100]\tvalid_0's l2: 8.04932\n",
            "Did not meet early stopping. Best iteration is:\n",
            "[100]\tvalid_0's l2: 8.04932\n",
            "Training until validation scores don't improve for 20 rounds.\n",
            "[10]\tvalid_0's l2: 9.50894\n",
            "[20]\tvalid_0's l2: 8.96883\n"
          ]
        },
        {
          "output_type": "stream",
          "name": "stderr",
          "text": [
            "<ipython-input-78-ba9fd7c9ef7c>:8: FutureWarning: suggest_uniform has been deprecated in v3.0.0. This feature will be removed in v6.0.0. See https://github.com/optuna/optuna/releases/tag/v3.0.0. Use :func:`~optuna.trial.Trial.suggest_float` instead.\n",
            "  'bagging_fraction': trial.suggest_uniform('bagging_fraction', 0.4,0.9),\n",
            "<ipython-input-78-ba9fd7c9ef7c>:10: FutureWarning: suggest_uniform has been deprecated in v3.0.0. This feature will be removed in v6.0.0. See https://github.com/optuna/optuna/releases/tag/v3.0.0. Use :func:`~optuna.trial.Trial.suggest_float` instead.\n",
            "  'feature_fraction':trial.suggest_uniform('feture_fraction', 0.4,0.9),\n",
            "\u001b[32m[I 2023-02-14 12:05:55,512]\u001b[0m Trial 4 finished with value: 1.5040081145705952 and parameters: {'num_leaves': 11, 'max_bin': 146, 'bagging_fraction': 0.4716766437045232, 'bagging_freq': 10, 'feture_fraction': 0.6609241608750358, 'min_data_in_leaf': 8}. Best is trial 1 with value: 1.5017770569298272.\u001b[0m\n"
          ]
        },
        {
          "output_type": "stream",
          "name": "stdout",
          "text": [
            "[30]\tvalid_0's l2: 8.67985\n",
            "[40]\tvalid_0's l2: 8.49049\n",
            "[50]\tvalid_0's l2: 8.35424\n",
            "[60]\tvalid_0's l2: 8.27072\n",
            "[70]\tvalid_0's l2: 8.21064\n",
            "[80]\tvalid_0's l2: 8.17617\n",
            "[90]\tvalid_0's l2: 8.11989\n",
            "[100]\tvalid_0's l2: 8.09747\n",
            "Did not meet early stopping. Best iteration is:\n",
            "[100]\tvalid_0's l2: 8.09747\n"
          ]
        },
        {
          "output_type": "stream",
          "name": "stderr",
          "text": [
            "<ipython-input-78-ba9fd7c9ef7c>:8: FutureWarning: suggest_uniform has been deprecated in v3.0.0. This feature will be removed in v6.0.0. See https://github.com/optuna/optuna/releases/tag/v3.0.0. Use :func:`~optuna.trial.Trial.suggest_float` instead.\n",
            "  'bagging_fraction': trial.suggest_uniform('bagging_fraction', 0.4,0.9),\n",
            "<ipython-input-78-ba9fd7c9ef7c>:10: FutureWarning: suggest_uniform has been deprecated in v3.0.0. This feature will be removed in v6.0.0. See https://github.com/optuna/optuna/releases/tag/v3.0.0. Use :func:`~optuna.trial.Trial.suggest_float` instead.\n",
            "  'feature_fraction':trial.suggest_uniform('feture_fraction', 0.4,0.9),\n"
          ]
        },
        {
          "output_type": "stream",
          "name": "stdout",
          "text": [
            "Training until validation scores don't improve for 20 rounds.\n",
            "[10]\tvalid_0's l2: 9.65557\n",
            "[20]\tvalid_0's l2: 9.17161\n",
            "[30]\tvalid_0's l2: 8.8983\n",
            "[40]\tvalid_0's l2: 8.71602\n",
            "[50]\tvalid_0's l2: 8.56213\n",
            "[60]\tvalid_0's l2: 8.46049\n",
            "[70]\tvalid_0's l2: 8.38814\n"
          ]
        },
        {
          "output_type": "stream",
          "name": "stderr",
          "text": [
            "\u001b[32m[I 2023-02-14 12:05:55,858]\u001b[0m Trial 5 finished with value: 1.5149143983261246 and parameters: {'num_leaves': 20, 'max_bin': 166, 'bagging_fraction': 0.6280751661082743, 'bagging_freq': 6, 'feture_fraction': 0.4093949002181776, 'min_data_in_leaf': 11}. Best is trial 1 with value: 1.5017770569298272.\u001b[0m\n"
          ]
        },
        {
          "output_type": "stream",
          "name": "stdout",
          "text": [
            "[80]\tvalid_0's l2: 8.33096\n",
            "[90]\tvalid_0's l2: 8.28613\n",
            "[100]\tvalid_0's l2: 8.25662\n",
            "Did not meet early stopping. Best iteration is:\n",
            "[100]\tvalid_0's l2: 8.25662\n",
            "Training until validation scores don't improve for 20 rounds.\n",
            "[10]\tvalid_0's l2: 9.55654\n",
            "[20]\tvalid_0's l2: 9.06192\n"
          ]
        },
        {
          "output_type": "stream",
          "name": "stderr",
          "text": [
            "<ipython-input-78-ba9fd7c9ef7c>:8: FutureWarning: suggest_uniform has been deprecated in v3.0.0. This feature will be removed in v6.0.0. See https://github.com/optuna/optuna/releases/tag/v3.0.0. Use :func:`~optuna.trial.Trial.suggest_float` instead.\n",
            "  'bagging_fraction': trial.suggest_uniform('bagging_fraction', 0.4,0.9),\n",
            "<ipython-input-78-ba9fd7c9ef7c>:10: FutureWarning: suggest_uniform has been deprecated in v3.0.0. This feature will be removed in v6.0.0. See https://github.com/optuna/optuna/releases/tag/v3.0.0. Use :func:`~optuna.trial.Trial.suggest_float` instead.\n",
            "  'feature_fraction':trial.suggest_uniform('feture_fraction', 0.4,0.9),\n"
          ]
        },
        {
          "output_type": "stream",
          "name": "stdout",
          "text": [
            "[30]\tvalid_0's l2: 8.76633\n",
            "[40]\tvalid_0's l2: 8.60297\n",
            "[50]\tvalid_0's l2: 8.49391\n",
            "[60]\tvalid_0's l2: 8.40327\n",
            "[70]\tvalid_0's l2: 8.33548\n",
            "[80]\tvalid_0's l2: 8.28065\n",
            "[90]\tvalid_0's l2: 8.23245\n",
            "[100]\tvalid_0's l2: 8.19248\n",
            "Did not meet early stopping. Best iteration is:\n",
            "[99]\tvalid_0's l2: 8.19242\n"
          ]
        },
        {
          "output_type": "stream",
          "name": "stderr",
          "text": [
            "\u001b[32m[I 2023-02-14 12:05:56,227]\u001b[0m Trial 6 finished with value: 1.5110368711156525 and parameters: {'num_leaves': 41, 'max_bin': 143, 'bagging_fraction': 0.8718740392573121, 'bagging_freq': 7, 'feture_fraction': 0.579753950286893, 'min_data_in_leaf': 8}. Best is trial 1 with value: 1.5017770569298272.\u001b[0m\n",
            "<ipython-input-78-ba9fd7c9ef7c>:8: FutureWarning: suggest_uniform has been deprecated in v3.0.0. This feature will be removed in v6.0.0. See https://github.com/optuna/optuna/releases/tag/v3.0.0. Use :func:`~optuna.trial.Trial.suggest_float` instead.\n",
            "  'bagging_fraction': trial.suggest_uniform('bagging_fraction', 0.4,0.9),\n",
            "<ipython-input-78-ba9fd7c9ef7c>:10: FutureWarning: suggest_uniform has been deprecated in v3.0.0. This feature will be removed in v6.0.0. See https://github.com/optuna/optuna/releases/tag/v3.0.0. Use :func:`~optuna.trial.Trial.suggest_float` instead.\n",
            "  'feature_fraction':trial.suggest_uniform('feture_fraction', 0.4,0.9),\n"
          ]
        },
        {
          "output_type": "stream",
          "name": "stdout",
          "text": [
            "Training until validation scores don't improve for 20 rounds.\n",
            "[10]\tvalid_0's l2: 9.56207\n",
            "[20]\tvalid_0's l2: 9.05281\n",
            "[30]\tvalid_0's l2: 8.78619\n",
            "[40]\tvalid_0's l2: 8.63507\n",
            "[50]\tvalid_0's l2: 8.51471\n",
            "[60]\tvalid_0's l2: 8.4304\n",
            "[70]\tvalid_0's l2: 8.36104\n",
            "[80]\tvalid_0's l2: 8.30237\n",
            "[90]\tvalid_0's l2: 8.2598\n"
          ]
        },
        {
          "output_type": "stream",
          "name": "stderr",
          "text": [
            "\u001b[32m[I 2023-02-14 12:05:56,544]\u001b[0m Trial 7 finished with value: 1.5118590228281203 and parameters: {'num_leaves': 46, 'max_bin': 59, 'bagging_fraction': 0.7333833577228339, 'bagging_freq': 7, 'feture_fraction': 0.5051912805369205, 'min_data_in_leaf': 3}. Best is trial 1 with value: 1.5017770569298272.\u001b[0m\n"
          ]
        },
        {
          "output_type": "stream",
          "name": "stdout",
          "text": [
            "[100]\tvalid_0's l2: 8.21931\n",
            "Did not meet early stopping. Best iteration is:\n",
            "[100]\tvalid_0's l2: 8.21931\n",
            "Training until validation scores don't improve for 20 rounds.\n",
            "[10]\tvalid_0's l2: 9.35745\n",
            "[20]\tvalid_0's l2: 8.8305\n",
            "[30]\tvalid_0's l2: 8.56417\n"
          ]
        },
        {
          "output_type": "stream",
          "name": "stderr",
          "text": [
            "<ipython-input-78-ba9fd7c9ef7c>:8: FutureWarning: suggest_uniform has been deprecated in v3.0.0. This feature will be removed in v6.0.0. See https://github.com/optuna/optuna/releases/tag/v3.0.0. Use :func:`~optuna.trial.Trial.suggest_float` instead.\n",
            "  'bagging_fraction': trial.suggest_uniform('bagging_fraction', 0.4,0.9),\n",
            "<ipython-input-78-ba9fd7c9ef7c>:10: FutureWarning: suggest_uniform has been deprecated in v3.0.0. This feature will be removed in v6.0.0. See https://github.com/optuna/optuna/releases/tag/v3.0.0. Use :func:`~optuna.trial.Trial.suggest_float` instead.\n",
            "  'feature_fraction':trial.suggest_uniform('feture_fraction', 0.4,0.9),\n",
            "\u001b[32m[I 2023-02-14 12:05:56,891]\u001b[0m Trial 8 finished with value: 1.5018254508301712 and parameters: {'num_leaves': 23, 'max_bin': 104, 'bagging_fraction': 0.6850983852089398, 'bagging_freq': 5, 'feture_fraction': 0.8941869190296131, 'min_data_in_leaf': 3}. Best is trial 1 with value: 1.5017770569298272.\u001b[0m\n"
          ]
        },
        {
          "output_type": "stream",
          "name": "stdout",
          "text": [
            "[40]\tvalid_0's l2: 8.4076\n",
            "[50]\tvalid_0's l2: 8.29695\n",
            "[60]\tvalid_0's l2: 8.21829\n",
            "[70]\tvalid_0's l2: 8.17037\n",
            "[80]\tvalid_0's l2: 8.12199\n",
            "[90]\tvalid_0's l2: 8.06161\n",
            "[100]\tvalid_0's l2: 8.04661\n",
            "Did not meet early stopping. Best iteration is:\n",
            "[97]\tvalid_0's l2: 8.04417\n"
          ]
        },
        {
          "output_type": "stream",
          "name": "stderr",
          "text": [
            "<ipython-input-78-ba9fd7c9ef7c>:8: FutureWarning: suggest_uniform has been deprecated in v3.0.0. This feature will be removed in v6.0.0. See https://github.com/optuna/optuna/releases/tag/v3.0.0. Use :func:`~optuna.trial.Trial.suggest_float` instead.\n",
            "  'bagging_fraction': trial.suggest_uniform('bagging_fraction', 0.4,0.9),\n",
            "<ipython-input-78-ba9fd7c9ef7c>:10: FutureWarning: suggest_uniform has been deprecated in v3.0.0. This feature will be removed in v6.0.0. See https://github.com/optuna/optuna/releases/tag/v3.0.0. Use :func:`~optuna.trial.Trial.suggest_float` instead.\n",
            "  'feature_fraction':trial.suggest_uniform('feture_fraction', 0.4,0.9),\n"
          ]
        },
        {
          "output_type": "stream",
          "name": "stdout",
          "text": [
            "Training until validation scores don't improve for 20 rounds.\n",
            "[10]\tvalid_0's l2: 9.51845\n",
            "[20]\tvalid_0's l2: 8.92432\n",
            "[30]\tvalid_0's l2: 8.61189\n",
            "[40]\tvalid_0's l2: 8.43749\n",
            "[50]\tvalid_0's l2: 8.32553\n",
            "[60]\tvalid_0's l2: 8.2516\n",
            "[70]\tvalid_0's l2: 8.20326\n"
          ]
        },
        {
          "output_type": "stream",
          "name": "stderr",
          "text": [
            "\u001b[32m[I 2023-02-14 12:05:57,240]\u001b[0m Trial 9 finished with value: 1.5051263327746085 and parameters: {'num_leaves': 16, 'max_bin': 74, 'bagging_fraction': 0.7265541627326992, 'bagging_freq': 3, 'feture_fraction': 0.6331553864281532, 'min_data_in_leaf': 5}. Best is trial 1 with value: 1.5017770569298272.\u001b[0m\n"
          ]
        },
        {
          "output_type": "stream",
          "name": "stdout",
          "text": [
            "[80]\tvalid_0's l2: 8.15244\n",
            "[90]\tvalid_0's l2: 8.10974\n",
            "[100]\tvalid_0's l2: 8.07088\n",
            "Did not meet early stopping. Best iteration is:\n",
            "[100]\tvalid_0's l2: 8.07088\n",
            "Training until validation scores don't improve for 20 rounds.\n",
            "[10]\tvalid_0's l2: 9.6701\n",
            "[20]\tvalid_0's l2: 9.19887\n"
          ]
        },
        {
          "output_type": "stream",
          "name": "stderr",
          "text": [
            "<ipython-input-78-ba9fd7c9ef7c>:8: FutureWarning: suggest_uniform has been deprecated in v3.0.0. This feature will be removed in v6.0.0. See https://github.com/optuna/optuna/releases/tag/v3.0.0. Use :func:`~optuna.trial.Trial.suggest_float` instead.\n",
            "  'bagging_fraction': trial.suggest_uniform('bagging_fraction', 0.4,0.9),\n",
            "<ipython-input-78-ba9fd7c9ef7c>:10: FutureWarning: suggest_uniform has been deprecated in v3.0.0. This feature will be removed in v6.0.0. See https://github.com/optuna/optuna/releases/tag/v3.0.0. Use :func:`~optuna.trial.Trial.suggest_float` instead.\n",
            "  'feature_fraction':trial.suggest_uniform('feture_fraction', 0.4,0.9),\n"
          ]
        },
        {
          "output_type": "stream",
          "name": "stdout",
          "text": [
            "[30]\tvalid_0's l2: 8.93602\n",
            "[40]\tvalid_0's l2: 8.73883\n",
            "[50]\tvalid_0's l2: 8.61047\n",
            "[60]\tvalid_0's l2: 8.50883\n",
            "[70]\tvalid_0's l2: 8.44368\n",
            "[80]\tvalid_0's l2: 8.38785\n",
            "[90]\tvalid_0's l2: 8.33539\n",
            "[100]\tvalid_0's l2: 8.28878\n",
            "Did not meet early stopping. Best iteration is:\n",
            "[100]\tvalid_0's l2: 8.28878\n"
          ]
        },
        {
          "output_type": "stream",
          "name": "stderr",
          "text": [
            "\u001b[32m[I 2023-02-14 12:05:57,566]\u001b[0m Trial 10 finished with value: 1.5168956386594172 and parameters: {'num_leaves': 13, 'max_bin': 66, 'bagging_fraction': 0.7281647947326367, 'bagging_freq': 2, 'feture_fraction': 0.49829118084002677, 'min_data_in_leaf': 7}. Best is trial 1 with value: 1.5017770569298272.\u001b[0m\n",
            "<ipython-input-78-ba9fd7c9ef7c>:8: FutureWarning: suggest_uniform has been deprecated in v3.0.0. This feature will be removed in v6.0.0. See https://github.com/optuna/optuna/releases/tag/v3.0.0. Use :func:`~optuna.trial.Trial.suggest_float` instead.\n",
            "  'bagging_fraction': trial.suggest_uniform('bagging_fraction', 0.4,0.9),\n",
            "<ipython-input-78-ba9fd7c9ef7c>:10: FutureWarning: suggest_uniform has been deprecated in v3.0.0. This feature will be removed in v6.0.0. See https://github.com/optuna/optuna/releases/tag/v3.0.0. Use :func:`~optuna.trial.Trial.suggest_float` instead.\n",
            "  'feature_fraction':trial.suggest_uniform('feture_fraction', 0.4,0.9),\n"
          ]
        },
        {
          "output_type": "stream",
          "name": "stdout",
          "text": [
            "Training until validation scores don't improve for 20 rounds.\n",
            "[10]\tvalid_0's l2: 9.36489\n",
            "[20]\tvalid_0's l2: 8.8379\n",
            "[30]\tvalid_0's l2: 8.57791\n",
            "[40]\tvalid_0's l2: 8.42441\n",
            "[50]\tvalid_0's l2: 8.3166\n",
            "[60]\tvalid_0's l2: 8.21917\n",
            "[70]\tvalid_0's l2: 8.14\n",
            "[80]\tvalid_0's l2: 8.09895\n"
          ]
        },
        {
          "output_type": "stream",
          "name": "stderr",
          "text": [
            "\u001b[32m[I 2023-02-14 12:05:57,880]\u001b[0m Trial 11 finished with value: 1.4999129891903473 and parameters: {'num_leaves': 54, 'max_bin': 64, 'bagging_fraction': 0.818972453749402, 'bagging_freq': 1, 'feture_fraction': 0.8882297325066979, 'min_data_in_leaf': 9}. Best is trial 11 with value: 1.4999129891903473.\u001b[0m\n"
          ]
        },
        {
          "output_type": "stream",
          "name": "stdout",
          "text": [
            "[90]\tvalid_0's l2: 8.06259\n",
            "[100]\tvalid_0's l2: 8.01669\n",
            "Did not meet early stopping. Best iteration is:\n",
            "[100]\tvalid_0's l2: 8.01669\n",
            "Training until validation scores don't improve for 20 rounds.\n",
            "[10]\tvalid_0's l2: 9.56048\n",
            "[20]\tvalid_0's l2: 9.04981\n",
            "[30]\tvalid_0's l2: 8.77303\n",
            "[40]\tvalid_0's l2: 8.59992\n"
          ]
        },
        {
          "output_type": "stream",
          "name": "stderr",
          "text": [
            "<ipython-input-78-ba9fd7c9ef7c>:8: FutureWarning: suggest_uniform has been deprecated in v3.0.0. This feature will be removed in v6.0.0. See https://github.com/optuna/optuna/releases/tag/v3.0.0. Use :func:`~optuna.trial.Trial.suggest_float` instead.\n",
            "  'bagging_fraction': trial.suggest_uniform('bagging_fraction', 0.4,0.9),\n",
            "<ipython-input-78-ba9fd7c9ef7c>:10: FutureWarning: suggest_uniform has been deprecated in v3.0.0. This feature will be removed in v6.0.0. See https://github.com/optuna/optuna/releases/tag/v3.0.0. Use :func:`~optuna.trial.Trial.suggest_float` instead.\n",
            "  'feature_fraction':trial.suggest_uniform('feture_fraction', 0.4,0.9),\n",
            "\u001b[32m[I 2023-02-14 12:05:58,235]\u001b[0m Trial 12 finished with value: 1.5117063487674534 and parameters: {'num_leaves': 63, 'max_bin': 141, 'bagging_fraction': 0.7696317896991509, 'bagging_freq': 1, 'feture_fraction': 0.5414034812882048, 'min_data_in_leaf': 3}. Best is trial 11 with value: 1.4999129891903473.\u001b[0m\n"
          ]
        },
        {
          "output_type": "stream",
          "name": "stdout",
          "text": [
            "[50]\tvalid_0's l2: 8.48859\n",
            "[60]\tvalid_0's l2: 8.40937\n",
            "[70]\tvalid_0's l2: 8.3523\n",
            "[80]\tvalid_0's l2: 8.29958\n",
            "[90]\tvalid_0's l2: 8.24612\n",
            "[100]\tvalid_0's l2: 8.22478\n",
            "Did not meet early stopping. Best iteration is:\n",
            "[99]\tvalid_0's l2: 8.22245\n"
          ]
        },
        {
          "output_type": "stream",
          "name": "stderr",
          "text": [
            "<ipython-input-78-ba9fd7c9ef7c>:8: FutureWarning: suggest_uniform has been deprecated in v3.0.0. This feature will be removed in v6.0.0. See https://github.com/optuna/optuna/releases/tag/v3.0.0. Use :func:`~optuna.trial.Trial.suggest_float` instead.\n",
            "  'bagging_fraction': trial.suggest_uniform('bagging_fraction', 0.4,0.9),\n",
            "<ipython-input-78-ba9fd7c9ef7c>:10: FutureWarning: suggest_uniform has been deprecated in v3.0.0. This feature will be removed in v6.0.0. See https://github.com/optuna/optuna/releases/tag/v3.0.0. Use :func:`~optuna.trial.Trial.suggest_float` instead.\n",
            "  'feature_fraction':trial.suggest_uniform('feture_fraction', 0.4,0.9),\n"
          ]
        },
        {
          "output_type": "stream",
          "name": "stdout",
          "text": [
            "Training until validation scores don't improve for 20 rounds.\n",
            "[10]\tvalid_0's l2: 9.6487\n",
            "[20]\tvalid_0's l2: 9.15948\n",
            "[30]\tvalid_0's l2: 8.89939\n",
            "[40]\tvalid_0's l2: 8.70995\n",
            "[50]\tvalid_0's l2: 8.57342\n",
            "[60]\tvalid_0's l2: 8.47726\n"
          ]
        },
        {
          "output_type": "stream",
          "name": "stderr",
          "text": [
            "\u001b[32m[I 2023-02-14 12:05:58,705]\u001b[0m Trial 13 finished with value: 1.5170394547746198 and parameters: {'num_leaves': 22, 'max_bin': 67, 'bagging_fraction': 0.558991589696988, 'bagging_freq': 5, 'feture_fraction': 0.4320737481743922, 'min_data_in_leaf': 12}. Best is trial 11 with value: 1.4999129891903473.\u001b[0m\n"
          ]
        },
        {
          "output_type": "stream",
          "name": "stdout",
          "text": [
            "[70]\tvalid_0's l2: 8.42628\n",
            "[80]\tvalid_0's l2: 8.37397\n",
            "[90]\tvalid_0's l2: 8.33154\n",
            "[100]\tvalid_0's l2: 8.29243\n",
            "Did not meet early stopping. Best iteration is:\n",
            "[100]\tvalid_0's l2: 8.29243\n"
          ]
        },
        {
          "output_type": "stream",
          "name": "stderr",
          "text": [
            "<ipython-input-78-ba9fd7c9ef7c>:8: FutureWarning: suggest_uniform has been deprecated in v3.0.0. This feature will be removed in v6.0.0. See https://github.com/optuna/optuna/releases/tag/v3.0.0. Use :func:`~optuna.trial.Trial.suggest_float` instead.\n",
            "  'bagging_fraction': trial.suggest_uniform('bagging_fraction', 0.4,0.9),\n",
            "<ipython-input-78-ba9fd7c9ef7c>:10: FutureWarning: suggest_uniform has been deprecated in v3.0.0. This feature will be removed in v6.0.0. See https://github.com/optuna/optuna/releases/tag/v3.0.0. Use :func:`~optuna.trial.Trial.suggest_float` instead.\n",
            "  'feature_fraction':trial.suggest_uniform('feture_fraction', 0.4,0.9),\n"
          ]
        },
        {
          "output_type": "stream",
          "name": "stdout",
          "text": [
            "Training until validation scores don't improve for 20 rounds.\n",
            "[10]\tvalid_0's l2: 9.51192\n",
            "[20]\tvalid_0's l2: 8.93524\n",
            "[30]\tvalid_0's l2: 8.64108\n",
            "[40]\tvalid_0's l2: 8.4519\n",
            "[50]\tvalid_0's l2: 8.34223\n",
            "[60]\tvalid_0's l2: 8.26255\n"
          ]
        },
        {
          "output_type": "stream",
          "name": "stderr",
          "text": [
            "\u001b[32m[I 2023-02-14 12:05:59,152]\u001b[0m Trial 14 finished with value: 1.5031884767444093 and parameters: {'num_leaves': 38, 'max_bin': 90, 'bagging_fraction': 0.6616240267333499, 'bagging_freq': 1, 'feture_fraction': 0.6879732477780897, 'min_data_in_leaf': 15}. Best is trial 11 with value: 1.4999129891903473.\u001b[0m\n"
          ]
        },
        {
          "output_type": "stream",
          "name": "stdout",
          "text": [
            "[70]\tvalid_0's l2: 8.20154\n",
            "[80]\tvalid_0's l2: 8.15601\n",
            "[90]\tvalid_0's l2: 8.10807\n",
            "[100]\tvalid_0's l2: 8.06795\n",
            "Did not meet early stopping. Best iteration is:\n",
            "[99]\tvalid_0's l2: 8.06778\n",
            "Training until validation scores don't improve for 20 rounds.\n"
          ]
        },
        {
          "output_type": "stream",
          "name": "stderr",
          "text": [
            "<ipython-input-78-ba9fd7c9ef7c>:8: FutureWarning: suggest_uniform has been deprecated in v3.0.0. This feature will be removed in v6.0.0. See https://github.com/optuna/optuna/releases/tag/v3.0.0. Use :func:`~optuna.trial.Trial.suggest_float` instead.\n",
            "  'bagging_fraction': trial.suggest_uniform('bagging_fraction', 0.4,0.9),\n",
            "<ipython-input-78-ba9fd7c9ef7c>:10: FutureWarning: suggest_uniform has been deprecated in v3.0.0. This feature will be removed in v6.0.0. See https://github.com/optuna/optuna/releases/tag/v3.0.0. Use :func:`~optuna.trial.Trial.suggest_float` instead.\n",
            "  'feature_fraction':trial.suggest_uniform('feture_fraction', 0.4,0.9),\n"
          ]
        },
        {
          "output_type": "stream",
          "name": "stdout",
          "text": [
            "[10]\tvalid_0's l2: 9.56199\n",
            "[20]\tvalid_0's l2: 9.07555\n",
            "[30]\tvalid_0's l2: 8.79966\n",
            "[40]\tvalid_0's l2: 8.64016\n",
            "[50]\tvalid_0's l2: 8.52957\n",
            "[60]\tvalid_0's l2: 8.44856\n",
            "[70]\tvalid_0's l2: 8.39883\n",
            "[80]\tvalid_0's l2: 8.3431\n",
            "[90]\tvalid_0's l2: 8.28633\n",
            "[100]\tvalid_0's l2: 8.26378\n",
            "Did not meet early stopping. Best iteration is:\n",
            "[99]\tvalid_0's l2: 8.26286\n"
          ]
        },
        {
          "output_type": "stream",
          "name": "stderr",
          "text": [
            "\u001b[32m[I 2023-02-14 12:05:59,461]\u001b[0m Trial 15 finished with value: 1.5144422324316618 and parameters: {'num_leaves': 23, 'max_bin': 150, 'bagging_fraction': 0.4658989312021961, 'bagging_freq': 8, 'feture_fraction': 0.5447030464736006, 'min_data_in_leaf': 4}. Best is trial 11 with value: 1.4999129891903473.\u001b[0m\n",
            "<ipython-input-78-ba9fd7c9ef7c>:8: FutureWarning: suggest_uniform has been deprecated in v3.0.0. This feature will be removed in v6.0.0. See https://github.com/optuna/optuna/releases/tag/v3.0.0. Use :func:`~optuna.trial.Trial.suggest_float` instead.\n",
            "  'bagging_fraction': trial.suggest_uniform('bagging_fraction', 0.4,0.9),\n",
            "<ipython-input-78-ba9fd7c9ef7c>:10: FutureWarning: suggest_uniform has been deprecated in v3.0.0. This feature will be removed in v6.0.0. See https://github.com/optuna/optuna/releases/tag/v3.0.0. Use :func:`~optuna.trial.Trial.suggest_float` instead.\n",
            "  'feature_fraction':trial.suggest_uniform('feture_fraction', 0.4,0.9),\n"
          ]
        },
        {
          "output_type": "stream",
          "name": "stdout",
          "text": [
            "Training until validation scores don't improve for 20 rounds.\n",
            "[10]\tvalid_0's l2: 9.50192\n",
            "[20]\tvalid_0's l2: 8.93578\n",
            "[30]\tvalid_0's l2: 8.63893\n",
            "[40]\tvalid_0's l2: 8.46747\n",
            "[50]\tvalid_0's l2: 8.35759\n",
            "[60]\tvalid_0's l2: 8.27311\n",
            "[70]\tvalid_0's l2: 8.19888\n",
            "[80]\tvalid_0's l2: 8.13765\n",
            "[90]\tvalid_0's l2: 8.09631\n",
            "[100]\tvalid_0's l2: 8.05981\n",
            "Did not meet early stopping. Best iteration is:\n",
            "[100]\tvalid_0's l2: 8.05981\n"
          ]
        },
        {
          "output_type": "stream",
          "name": "stderr",
          "text": [
            "\u001b[32m[I 2023-02-14 12:05:59,746]\u001b[0m Trial 16 finished with value: 1.5026612692084989 and parameters: {'num_leaves': 39, 'max_bin': 53, 'bagging_fraction': 0.8144700146086816, 'bagging_freq': 1, 'feture_fraction': 0.7389082683981151, 'min_data_in_leaf': 6}. Best is trial 11 with value: 1.4999129891903473.\u001b[0m\n",
            "<ipython-input-78-ba9fd7c9ef7c>:8: FutureWarning: suggest_uniform has been deprecated in v3.0.0. This feature will be removed in v6.0.0. See https://github.com/optuna/optuna/releases/tag/v3.0.0. Use :func:`~optuna.trial.Trial.suggest_float` instead.\n",
            "  'bagging_fraction': trial.suggest_uniform('bagging_fraction', 0.4,0.9),\n",
            "<ipython-input-78-ba9fd7c9ef7c>:10: FutureWarning: suggest_uniform has been deprecated in v3.0.0. This feature will be removed in v6.0.0. See https://github.com/optuna/optuna/releases/tag/v3.0.0. Use :func:`~optuna.trial.Trial.suggest_float` instead.\n",
            "  'feature_fraction':trial.suggest_uniform('feture_fraction', 0.4,0.9),\n"
          ]
        },
        {
          "output_type": "stream",
          "name": "stdout",
          "text": [
            "Training until validation scores don't improve for 20 rounds.\n",
            "[10]\tvalid_0's l2: 9.49187\n",
            "[20]\tvalid_0's l2: 8.9148\n",
            "[30]\tvalid_0's l2: 8.60904\n",
            "[40]\tvalid_0's l2: 8.43164\n",
            "[50]\tvalid_0's l2: 8.30581\n",
            "[60]\tvalid_0's l2: 8.23595\n",
            "[70]\tvalid_0's l2: 8.17152\n"
          ]
        },
        {
          "output_type": "stream",
          "name": "stderr",
          "text": [
            "\u001b[32m[I 2023-02-14 12:06:00,097]\u001b[0m Trial 17 finished with value: 1.5014485933250976 and parameters: {'num_leaves': 48, 'max_bin': 195, 'bagging_fraction': 0.5243765717599791, 'bagging_freq': 6, 'feture_fraction': 0.6960209656359195, 'min_data_in_leaf': 10}. Best is trial 11 with value: 1.4999129891903473.\u001b[0m\n"
          ]
        },
        {
          "output_type": "stream",
          "name": "stdout",
          "text": [
            "[80]\tvalid_0's l2: 8.12987\n",
            "[90]\tvalid_0's l2: 8.09194\n",
            "[100]\tvalid_0's l2: 8.05143\n",
            "Did not meet early stopping. Best iteration is:\n",
            "[100]\tvalid_0's l2: 8.05143\n",
            "Training until validation scores don't improve for 20 rounds.\n",
            "[10]\tvalid_0's l2: 9.50527\n",
            "[20]\tvalid_0's l2: 8.92596\n"
          ]
        },
        {
          "output_type": "stream",
          "name": "stderr",
          "text": [
            "<ipython-input-78-ba9fd7c9ef7c>:8: FutureWarning: suggest_uniform has been deprecated in v3.0.0. This feature will be removed in v6.0.0. See https://github.com/optuna/optuna/releases/tag/v3.0.0. Use :func:`~optuna.trial.Trial.suggest_float` instead.\n",
            "  'bagging_fraction': trial.suggest_uniform('bagging_fraction', 0.4,0.9),\n",
            "<ipython-input-78-ba9fd7c9ef7c>:10: FutureWarning: suggest_uniform has been deprecated in v3.0.0. This feature will be removed in v6.0.0. See https://github.com/optuna/optuna/releases/tag/v3.0.0. Use :func:`~optuna.trial.Trial.suggest_float` instead.\n",
            "  'feature_fraction':trial.suggest_uniform('feture_fraction', 0.4,0.9),\n"
          ]
        },
        {
          "output_type": "stream",
          "name": "stdout",
          "text": [
            "[30]\tvalid_0's l2: 8.60631\n",
            "[40]\tvalid_0's l2: 8.43194\n",
            "[50]\tvalid_0's l2: 8.32386\n",
            "[60]\tvalid_0's l2: 8.24425\n",
            "[70]\tvalid_0's l2: 8.17295\n",
            "[80]\tvalid_0's l2: 8.12117\n",
            "[90]\tvalid_0's l2: 8.09524\n",
            "[100]\tvalid_0's l2: 8.05246\n",
            "Did not meet early stopping. Best iteration is:\n",
            "[100]\tvalid_0's l2: 8.05246\n"
          ]
        },
        {
          "output_type": "stream",
          "name": "stderr",
          "text": [
            "\u001b[32m[I 2023-02-14 12:06:00,430]\u001b[0m Trial 18 finished with value: 1.503725910513389 and parameters: {'num_leaves': 17, 'max_bin': 193, 'bagging_fraction': 0.6235626893088138, 'bagging_freq': 9, 'feture_fraction': 0.7497396376587522, 'min_data_in_leaf': 6}. Best is trial 11 with value: 1.4999129891903473.\u001b[0m\n",
            "<ipython-input-78-ba9fd7c9ef7c>:8: FutureWarning: suggest_uniform has been deprecated in v3.0.0. This feature will be removed in v6.0.0. See https://github.com/optuna/optuna/releases/tag/v3.0.0. Use :func:`~optuna.trial.Trial.suggest_float` instead.\n",
            "  'bagging_fraction': trial.suggest_uniform('bagging_fraction', 0.4,0.9),\n",
            "<ipython-input-78-ba9fd7c9ef7c>:10: FutureWarning: suggest_uniform has been deprecated in v3.0.0. This feature will be removed in v6.0.0. See https://github.com/optuna/optuna/releases/tag/v3.0.0. Use :func:`~optuna.trial.Trial.suggest_float` instead.\n",
            "  'feature_fraction':trial.suggest_uniform('feture_fraction', 0.4,0.9),\n"
          ]
        },
        {
          "output_type": "stream",
          "name": "stdout",
          "text": [
            "Training until validation scores don't improve for 20 rounds.\n",
            "[10]\tvalid_0's l2: 9.43685\n",
            "[20]\tvalid_0's l2: 8.8703\n",
            "[30]\tvalid_0's l2: 8.5723\n",
            "[40]\tvalid_0's l2: 8.41488\n",
            "[50]\tvalid_0's l2: 8.3067\n",
            "[60]\tvalid_0's l2: 8.22014\n",
            "[70]\tvalid_0's l2: 8.17196\n"
          ]
        },
        {
          "output_type": "stream",
          "name": "stderr",
          "text": [
            "\u001b[32m[I 2023-02-14 12:06:00,784]\u001b[0m Trial 19 finished with value: 1.5026546735667703 and parameters: {'num_leaves': 53, 'max_bin': 109, 'bagging_fraction': 0.8405515985555808, 'bagging_freq': 6, 'feture_fraction': 0.8408676809274265, 'min_data_in_leaf': 12}. Best is trial 11 with value: 1.4999129891903473.\u001b[0m\n"
          ]
        },
        {
          "output_type": "stream",
          "name": "stdout",
          "text": [
            "[80]\tvalid_0's l2: 8.12753\n",
            "[90]\tvalid_0's l2: 8.0926\n",
            "[100]\tvalid_0's l2: 8.0582\n",
            "Did not meet early stopping. Best iteration is:\n",
            "[100]\tvalid_0's l2: 8.0582\n",
            "Training until validation scores don't improve for 20 rounds.\n",
            "[10]\tvalid_0's l2: 9.54961\n",
            "[20]\tvalid_0's l2: 9.05327\n"
          ]
        },
        {
          "output_type": "stream",
          "name": "stderr",
          "text": [
            "<ipython-input-78-ba9fd7c9ef7c>:8: FutureWarning: suggest_uniform has been deprecated in v3.0.0. This feature will be removed in v6.0.0. See https://github.com/optuna/optuna/releases/tag/v3.0.0. Use :func:`~optuna.trial.Trial.suggest_float` instead.\n",
            "  'bagging_fraction': trial.suggest_uniform('bagging_fraction', 0.4,0.9),\n",
            "<ipython-input-78-ba9fd7c9ef7c>:10: FutureWarning: suggest_uniform has been deprecated in v3.0.0. This feature will be removed in v6.0.0. See https://github.com/optuna/optuna/releases/tag/v3.0.0. Use :func:`~optuna.trial.Trial.suggest_float` instead.\n",
            "  'feature_fraction':trial.suggest_uniform('feture_fraction', 0.4,0.9),\n"
          ]
        },
        {
          "output_type": "stream",
          "name": "stdout",
          "text": [
            "[30]\tvalid_0's l2: 8.76797\n",
            "[40]\tvalid_0's l2: 8.61523\n",
            "[50]\tvalid_0's l2: 8.49778\n",
            "[60]\tvalid_0's l2: 8.41\n",
            "[70]\tvalid_0's l2: 8.34179\n",
            "[80]\tvalid_0's l2: 8.2958\n",
            "[90]\tvalid_0's l2: 8.2584\n",
            "[100]\tvalid_0's l2: 8.22237\n",
            "Did not meet early stopping. Best iteration is:\n",
            "[100]\tvalid_0's l2: 8.22237\n"
          ]
        },
        {
          "output_type": "stream",
          "name": "stderr",
          "text": [
            "\u001b[32m[I 2023-02-14 12:06:01,134]\u001b[0m Trial 20 finished with value: 1.5123367718211813 and parameters: {'num_leaves': 48, 'max_bin': 125, 'bagging_fraction': 0.878041817361612, 'bagging_freq': 7, 'feture_fraction': 0.6119275242790898, 'min_data_in_leaf': 11}. Best is trial 11 with value: 1.4999129891903473.\u001b[0m\n",
            "<ipython-input-78-ba9fd7c9ef7c>:8: FutureWarning: suggest_uniform has been deprecated in v3.0.0. This feature will be removed in v6.0.0. See https://github.com/optuna/optuna/releases/tag/v3.0.0. Use :func:`~optuna.trial.Trial.suggest_float` instead.\n",
            "  'bagging_fraction': trial.suggest_uniform('bagging_fraction', 0.4,0.9),\n",
            "<ipython-input-78-ba9fd7c9ef7c>:10: FutureWarning: suggest_uniform has been deprecated in v3.0.0. This feature will be removed in v6.0.0. See https://github.com/optuna/optuna/releases/tag/v3.0.0. Use :func:`~optuna.trial.Trial.suggest_float` instead.\n",
            "  'feature_fraction':trial.suggest_uniform('feture_fraction', 0.4,0.9),\n"
          ]
        },
        {
          "output_type": "stream",
          "name": "stdout",
          "text": [
            "Training until validation scores don't improve for 20 rounds.\n",
            "[10]\tvalid_0's l2: 9.47961\n",
            "[20]\tvalid_0's l2: 8.88567\n",
            "[30]\tvalid_0's l2: 8.58378\n",
            "[40]\tvalid_0's l2: 8.39434\n",
            "[50]\tvalid_0's l2: 8.28257\n",
            "[60]\tvalid_0's l2: 8.20762\n",
            "[70]\tvalid_0's l2: 8.14816\n",
            "[80]\tvalid_0's l2: 8.10274\n"
          ]
        },
        {
          "output_type": "stream",
          "name": "stderr",
          "text": [
            "\u001b[32m[I 2023-02-14 12:06:01,467]\u001b[0m Trial 21 finished with value: 1.5029476757830107 and parameters: {'num_leaves': 5, 'max_bin': 95, 'bagging_fraction': 0.7300867687463426, 'bagging_freq': 3, 'feture_fraction': 0.7090077144994208, 'min_data_in_leaf': 8}. Best is trial 11 with value: 1.4999129891903473.\u001b[0m\n"
          ]
        },
        {
          "output_type": "stream",
          "name": "stdout",
          "text": [
            "[90]\tvalid_0's l2: 8.06192\n",
            "[100]\tvalid_0's l2: 8.0232\n",
            "Did not meet early stopping. Best iteration is:\n",
            "[100]\tvalid_0's l2: 8.0232\n",
            "Training until validation scores don't improve for 20 rounds.\n",
            "[10]\tvalid_0's l2: 9.50143\n",
            "[20]\tvalid_0's l2: 8.93228\n",
            "[30]\tvalid_0's l2: 8.63965\n"
          ]
        },
        {
          "output_type": "stream",
          "name": "stderr",
          "text": [
            "<ipython-input-78-ba9fd7c9ef7c>:8: FutureWarning: suggest_uniform has been deprecated in v3.0.0. This feature will be removed in v6.0.0. See https://github.com/optuna/optuna/releases/tag/v3.0.0. Use :func:`~optuna.trial.Trial.suggest_float` instead.\n",
            "  'bagging_fraction': trial.suggest_uniform('bagging_fraction', 0.4,0.9),\n",
            "<ipython-input-78-ba9fd7c9ef7c>:10: FutureWarning: suggest_uniform has been deprecated in v3.0.0. This feature will be removed in v6.0.0. See https://github.com/optuna/optuna/releases/tag/v3.0.0. Use :func:`~optuna.trial.Trial.suggest_float` instead.\n",
            "  'feature_fraction':trial.suggest_uniform('feture_fraction', 0.4,0.9),\n",
            "\u001b[32m[I 2023-02-14 12:06:01,795]\u001b[0m Trial 22 finished with value: 1.5037588659420205 and parameters: {'num_leaves': 12, 'max_bin': 95, 'bagging_fraction': 0.6849824553506325, 'bagging_freq': 6, 'feture_fraction': 0.6871626244247895, 'min_data_in_leaf': 11}. Best is trial 11 with value: 1.4999129891903473.\u001b[0m\n"
          ]
        },
        {
          "output_type": "stream",
          "name": "stdout",
          "text": [
            "[40]\tvalid_0's l2: 8.45774\n",
            "[50]\tvalid_0's l2: 8.34303\n",
            "[60]\tvalid_0's l2: 8.26138\n",
            "[70]\tvalid_0's l2: 8.19836\n",
            "[80]\tvalid_0's l2: 8.14059\n",
            "[90]\tvalid_0's l2: 8.10145\n",
            "[100]\tvalid_0's l2: 8.07827\n",
            "Did not meet early stopping. Best iteration is:\n",
            "[100]\tvalid_0's l2: 8.07827\n"
          ]
        },
        {
          "output_type": "stream",
          "name": "stderr",
          "text": [
            "<ipython-input-78-ba9fd7c9ef7c>:8: FutureWarning: suggest_uniform has been deprecated in v3.0.0. This feature will be removed in v6.0.0. See https://github.com/optuna/optuna/releases/tag/v3.0.0. Use :func:`~optuna.trial.Trial.suggest_float` instead.\n",
            "  'bagging_fraction': trial.suggest_uniform('bagging_fraction', 0.4,0.9),\n",
            "<ipython-input-78-ba9fd7c9ef7c>:10: FutureWarning: suggest_uniform has been deprecated in v3.0.0. This feature will be removed in v6.0.0. See https://github.com/optuna/optuna/releases/tag/v3.0.0. Use :func:`~optuna.trial.Trial.suggest_float` instead.\n",
            "  'feature_fraction':trial.suggest_uniform('feture_fraction', 0.4,0.9),\n"
          ]
        },
        {
          "output_type": "stream",
          "name": "stdout",
          "text": [
            "Training until validation scores don't improve for 20 rounds.\n",
            "[10]\tvalid_0's l2: 9.55777\n",
            "[20]\tvalid_0's l2: 9.05714\n",
            "[30]\tvalid_0's l2: 8.78675\n",
            "[40]\tvalid_0's l2: 8.63049\n",
            "[50]\tvalid_0's l2: 8.51285\n",
            "[60]\tvalid_0's l2: 8.4235\n",
            "[70]\tvalid_0's l2: 8.35387\n"
          ]
        },
        {
          "output_type": "stream",
          "name": "stderr",
          "text": [
            "\u001b[32m[I 2023-02-14 12:06:02,150]\u001b[0m Trial 23 finished with value: 1.5118729685232282 and parameters: {'num_leaves': 43, 'max_bin': 115, 'bagging_fraction': 0.8482732979255315, 'bagging_freq': 4, 'feture_fraction': 0.6179324626328134, 'min_data_in_leaf': 15}. Best is trial 11 with value: 1.4999129891903473.\u001b[0m\n"
          ]
        },
        {
          "output_type": "stream",
          "name": "stdout",
          "text": [
            "[80]\tvalid_0's l2: 8.30612\n",
            "[90]\tvalid_0's l2: 8.26125\n",
            "[100]\tvalid_0's l2: 8.22931\n",
            "Did not meet early stopping. Best iteration is:\n",
            "[100]\tvalid_0's l2: 8.22931\n",
            "Training until validation scores don't improve for 20 rounds.\n",
            "[10]\tvalid_0's l2: 9.44158\n",
            "[20]\tvalid_0's l2: 8.88978\n"
          ]
        },
        {
          "output_type": "stream",
          "name": "stderr",
          "text": [
            "<ipython-input-78-ba9fd7c9ef7c>:8: FutureWarning: suggest_uniform has been deprecated in v3.0.0. This feature will be removed in v6.0.0. See https://github.com/optuna/optuna/releases/tag/v3.0.0. Use :func:`~optuna.trial.Trial.suggest_float` instead.\n",
            "  'bagging_fraction': trial.suggest_uniform('bagging_fraction', 0.4,0.9),\n",
            "<ipython-input-78-ba9fd7c9ef7c>:10: FutureWarning: suggest_uniform has been deprecated in v3.0.0. This feature will be removed in v6.0.0. See https://github.com/optuna/optuna/releases/tag/v3.0.0. Use :func:`~optuna.trial.Trial.suggest_float` instead.\n",
            "  'feature_fraction':trial.suggest_uniform('feture_fraction', 0.4,0.9),\n"
          ]
        },
        {
          "output_type": "stream",
          "name": "stdout",
          "text": [
            "[30]\tvalid_0's l2: 8.61645\n",
            "[40]\tvalid_0's l2: 8.44921\n",
            "[50]\tvalid_0's l2: 8.31287\n",
            "[60]\tvalid_0's l2: 8.23408\n",
            "[70]\tvalid_0's l2: 8.18497\n",
            "[80]\tvalid_0's l2: 8.14013\n",
            "[90]\tvalid_0's l2: 8.08903\n",
            "[100]\tvalid_0's l2: 8.08267\n",
            "Did not meet early stopping. Best iteration is:\n",
            "[99]\tvalid_0's l2: 8.08056\n"
          ]
        },
        {
          "output_type": "stream",
          "name": "stderr",
          "text": [
            "\u001b[32m[I 2023-02-14 12:06:02,478]\u001b[0m Trial 24 finished with value: 1.5023349585345875 and parameters: {'num_leaves': 53, 'max_bin': 156, 'bagging_fraction': 0.4501134436561506, 'bagging_freq': 10, 'feture_fraction': 0.7571206497745557, 'min_data_in_leaf': 16}. Best is trial 11 with value: 1.4999129891903473.\u001b[0m\n",
            "<ipython-input-78-ba9fd7c9ef7c>:8: FutureWarning: suggest_uniform has been deprecated in v3.0.0. This feature will be removed in v6.0.0. See https://github.com/optuna/optuna/releases/tag/v3.0.0. Use :func:`~optuna.trial.Trial.suggest_float` instead.\n",
            "  'bagging_fraction': trial.suggest_uniform('bagging_fraction', 0.4,0.9),\n",
            "<ipython-input-78-ba9fd7c9ef7c>:10: FutureWarning: suggest_uniform has been deprecated in v3.0.0. This feature will be removed in v6.0.0. See https://github.com/optuna/optuna/releases/tag/v3.0.0. Use :func:`~optuna.trial.Trial.suggest_float` instead.\n",
            "  'feature_fraction':trial.suggest_uniform('feture_fraction', 0.4,0.9),\n"
          ]
        },
        {
          "output_type": "stream",
          "name": "stdout",
          "text": [
            "Training until validation scores don't improve for 20 rounds.\n",
            "[10]\tvalid_0's l2: 9.66393\n",
            "[20]\tvalid_0's l2: 9.21587\n",
            "[30]\tvalid_0's l2: 8.93802\n",
            "[40]\tvalid_0's l2: 8.73028\n",
            "[50]\tvalid_0's l2: 8.58812\n",
            "[60]\tvalid_0's l2: 8.4994\n",
            "[70]\tvalid_0's l2: 8.43722\n",
            "[80]\tvalid_0's l2: 8.39612\n",
            "[90]\tvalid_0's l2: 8.34095\n"
          ]
        },
        {
          "output_type": "stream",
          "name": "stderr",
          "text": [
            "\u001b[32m[I 2023-02-14 12:06:02,792]\u001b[0m Trial 25 finished with value: 1.5165871830300774 and parameters: {'num_leaves': 13, 'max_bin': 181, 'bagging_fraction': 0.48124646733818743, 'bagging_freq': 7, 'feture_fraction': 0.4619099914247208, 'min_data_in_leaf': 14}. Best is trial 11 with value: 1.4999129891903473.\u001b[0m\n"
          ]
        },
        {
          "output_type": "stream",
          "name": "stdout",
          "text": [
            "[100]\tvalid_0's l2: 8.29392\n",
            "Did not meet early stopping. Best iteration is:\n",
            "[100]\tvalid_0's l2: 8.29392\n",
            "Training until validation scores don't improve for 20 rounds.\n",
            "[10]\tvalid_0's l2: 9.51131\n",
            "[20]\tvalid_0's l2: 8.94418\n",
            "[30]\tvalid_0's l2: 8.65836\n",
            "[40]\tvalid_0's l2: 8.48583\n"
          ]
        },
        {
          "output_type": "stream",
          "name": "stderr",
          "text": [
            "<ipython-input-78-ba9fd7c9ef7c>:8: FutureWarning: suggest_uniform has been deprecated in v3.0.0. This feature will be removed in v6.0.0. See https://github.com/optuna/optuna/releases/tag/v3.0.0. Use :func:`~optuna.trial.Trial.suggest_float` instead.\n",
            "  'bagging_fraction': trial.suggest_uniform('bagging_fraction', 0.4,0.9),\n",
            "<ipython-input-78-ba9fd7c9ef7c>:10: FutureWarning: suggest_uniform has been deprecated in v3.0.0. This feature will be removed in v6.0.0. See https://github.com/optuna/optuna/releases/tag/v3.0.0. Use :func:`~optuna.trial.Trial.suggest_float` instead.\n",
            "  'feature_fraction':trial.suggest_uniform('feture_fraction', 0.4,0.9),\n",
            "\u001b[32m[I 2023-02-14 12:06:03,099]\u001b[0m Trial 26 finished with value: 1.5029966480319839 and parameters: {'num_leaves': 53, 'max_bin': 135, 'bagging_fraction': 0.6035916486129999, 'bagging_freq': 1, 'feture_fraction': 0.7487143865722818, 'min_data_in_leaf': 8}. Best is trial 11 with value: 1.4999129891903473.\u001b[0m\n"
          ]
        },
        {
          "output_type": "stream",
          "name": "stdout",
          "text": [
            "[50]\tvalid_0's l2: 8.3772\n",
            "[60]\tvalid_0's l2: 8.28101\n",
            "[70]\tvalid_0's l2: 8.21251\n",
            "[80]\tvalid_0's l2: 8.17088\n",
            "[90]\tvalid_0's l2: 8.107\n",
            "[100]\tvalid_0's l2: 8.07062\n",
            "Did not meet early stopping. Best iteration is:\n",
            "[100]\tvalid_0's l2: 8.07062\n",
            "Training until validation scores don't improve for 20 rounds.\n"
          ]
        },
        {
          "output_type": "stream",
          "name": "stderr",
          "text": [
            "<ipython-input-78-ba9fd7c9ef7c>:8: FutureWarning: suggest_uniform has been deprecated in v3.0.0. This feature will be removed in v6.0.0. See https://github.com/optuna/optuna/releases/tag/v3.0.0. Use :func:`~optuna.trial.Trial.suggest_float` instead.\n",
            "  'bagging_fraction': trial.suggest_uniform('bagging_fraction', 0.4,0.9),\n",
            "<ipython-input-78-ba9fd7c9ef7c>:10: FutureWarning: suggest_uniform has been deprecated in v3.0.0. This feature will be removed in v6.0.0. See https://github.com/optuna/optuna/releases/tag/v3.0.0. Use :func:`~optuna.trial.Trial.suggest_float` instead.\n",
            "  'feature_fraction':trial.suggest_uniform('feture_fraction', 0.4,0.9),\n"
          ]
        },
        {
          "output_type": "stream",
          "name": "stdout",
          "text": [
            "[10]\tvalid_0's l2: 9.65531\n",
            "[20]\tvalid_0's l2: 9.17228\n",
            "[30]\tvalid_0's l2: 8.89791\n",
            "[40]\tvalid_0's l2: 8.71433\n",
            "[50]\tvalid_0's l2: 8.56631\n",
            "[60]\tvalid_0's l2: 8.46929\n",
            "[70]\tvalid_0's l2: 8.40168\n",
            "[80]\tvalid_0's l2: 8.3551\n",
            "[90]\tvalid_0's l2: 8.30557\n"
          ]
        },
        {
          "output_type": "stream",
          "name": "stderr",
          "text": [
            "\u001b[32m[I 2023-02-14 12:06:03,439]\u001b[0m Trial 27 finished with value: 1.5162071443615253 and parameters: {'num_leaves': 48, 'max_bin': 180, 'bagging_fraction': 0.8877607525014429, 'bagging_freq': 9, 'feture_fraction': 0.405857042092501, 'min_data_in_leaf': 7}. Best is trial 11 with value: 1.4999129891903473.\u001b[0m\n"
          ]
        },
        {
          "output_type": "stream",
          "name": "stdout",
          "text": [
            "[100]\tvalid_0's l2: 8.26317\n",
            "Did not meet early stopping. Best iteration is:\n",
            "[100]\tvalid_0's l2: 8.26317\n",
            "Training until validation scores don't improve for 20 rounds.\n",
            "[10]\tvalid_0's l2: 9.67529\n",
            "[20]\tvalid_0's l2: 9.20317\n",
            "[30]\tvalid_0's l2: 8.93715\n",
            "[40]\tvalid_0's l2: 8.74064\n",
            "[50]\tvalid_0's l2: 8.60228\n",
            "[60]\tvalid_0's l2: 8.50622\n"
          ]
        },
        {
          "output_type": "stream",
          "name": "stderr",
          "text": [
            "<ipython-input-78-ba9fd7c9ef7c>:8: FutureWarning: suggest_uniform has been deprecated in v3.0.0. This feature will be removed in v6.0.0. See https://github.com/optuna/optuna/releases/tag/v3.0.0. Use :func:`~optuna.trial.Trial.suggest_float` instead.\n",
            "  'bagging_fraction': trial.suggest_uniform('bagging_fraction', 0.4,0.9),\n",
            "<ipython-input-78-ba9fd7c9ef7c>:10: FutureWarning: suggest_uniform has been deprecated in v3.0.0. This feature will be removed in v6.0.0. See https://github.com/optuna/optuna/releases/tag/v3.0.0. Use :func:`~optuna.trial.Trial.suggest_float` instead.\n",
            "  'feature_fraction':trial.suggest_uniform('feture_fraction', 0.4,0.9),\n",
            "\u001b[32m[I 2023-02-14 12:06:03,707]\u001b[0m Trial 28 finished with value: 1.5175343192591353 and parameters: {'num_leaves': 48, 'max_bin': 75, 'bagging_fraction': 0.6605183031020647, 'bagging_freq': 1, 'feture_fraction': 0.49999826244820006, 'min_data_in_leaf': 2}. Best is trial 11 with value: 1.4999129891903473.\u001b[0m\n"
          ]
        },
        {
          "output_type": "stream",
          "name": "stdout",
          "text": [
            "[70]\tvalid_0's l2: 8.43385\n",
            "[80]\tvalid_0's l2: 8.37505\n",
            "[90]\tvalid_0's l2: 8.32442\n",
            "[100]\tvalid_0's l2: 8.28583\n",
            "Did not meet early stopping. Best iteration is:\n",
            "[100]\tvalid_0's l2: 8.28583\n",
            "Training until validation scores don't improve for 20 rounds.\n",
            "[10]\tvalid_0's l2: 9.42398\n",
            "[20]\tvalid_0's l2: 8.84739\n"
          ]
        },
        {
          "output_type": "stream",
          "name": "stderr",
          "text": [
            "<ipython-input-78-ba9fd7c9ef7c>:8: FutureWarning: suggest_uniform has been deprecated in v3.0.0. This feature will be removed in v6.0.0. See https://github.com/optuna/optuna/releases/tag/v3.0.0. Use :func:`~optuna.trial.Trial.suggest_float` instead.\n",
            "  'bagging_fraction': trial.suggest_uniform('bagging_fraction', 0.4,0.9),\n",
            "<ipython-input-78-ba9fd7c9ef7c>:10: FutureWarning: suggest_uniform has been deprecated in v3.0.0. This feature will be removed in v6.0.0. See https://github.com/optuna/optuna/releases/tag/v3.0.0. Use :func:`~optuna.trial.Trial.suggest_float` instead.\n",
            "  'feature_fraction':trial.suggest_uniform('feture_fraction', 0.4,0.9),\n"
          ]
        },
        {
          "output_type": "stream",
          "name": "stdout",
          "text": [
            "[30]\tvalid_0's l2: 8.58216\n",
            "[40]\tvalid_0's l2: 8.42366\n",
            "[50]\tvalid_0's l2: 8.3136\n",
            "[60]\tvalid_0's l2: 8.23808\n",
            "[70]\tvalid_0's l2: 8.18525\n",
            "[80]\tvalid_0's l2: 8.12924\n",
            "[90]\tvalid_0's l2: 8.09325\n",
            "[100]\tvalid_0's l2: 8.06947\n",
            "Did not meet early stopping. Best iteration is:\n",
            "[99]\tvalid_0's l2: 8.06898\n"
          ]
        },
        {
          "output_type": "stream",
          "name": "stderr",
          "text": [
            "\u001b[32m[I 2023-02-14 12:06:04,090]\u001b[0m Trial 29 finished with value: 1.5038200453796022 and parameters: {'num_leaves': 52, 'max_bin': 83, 'bagging_fraction': 0.5726758403484513, 'bagging_freq': 10, 'feture_fraction': 0.7522072009617664, 'min_data_in_leaf': 2}. Best is trial 11 with value: 1.4999129891903473.\u001b[0m\n",
            "<ipython-input-78-ba9fd7c9ef7c>:8: FutureWarning: suggest_uniform has been deprecated in v3.0.0. This feature will be removed in v6.0.0. See https://github.com/optuna/optuna/releases/tag/v3.0.0. Use :func:`~optuna.trial.Trial.suggest_float` instead.\n",
            "  'bagging_fraction': trial.suggest_uniform('bagging_fraction', 0.4,0.9),\n",
            "<ipython-input-78-ba9fd7c9ef7c>:10: FutureWarning: suggest_uniform has been deprecated in v3.0.0. This feature will be removed in v6.0.0. See https://github.com/optuna/optuna/releases/tag/v3.0.0. Use :func:`~optuna.trial.Trial.suggest_float` instead.\n",
            "  'feature_fraction':trial.suggest_uniform('feture_fraction', 0.4,0.9),\n"
          ]
        },
        {
          "output_type": "stream",
          "name": "stdout",
          "text": [
            "Training until validation scores don't improve for 20 rounds.\n",
            "[10]\tvalid_0's l2: 9.42936\n",
            "[20]\tvalid_0's l2: 8.86427\n",
            "[30]\tvalid_0's l2: 8.55957\n",
            "[40]\tvalid_0's l2: 8.38538\n",
            "[50]\tvalid_0's l2: 8.2776\n"
          ]
        },
        {
          "output_type": "stream",
          "name": "stderr",
          "text": [
            "\u001b[32m[I 2023-02-14 12:06:04,570]\u001b[0m Trial 30 finished with value: 1.5005723623586575 and parameters: {'num_leaves': 14, 'max_bin': 143, 'bagging_fraction': 0.6886142943020839, 'bagging_freq': 3, 'feture_fraction': 0.867106998962397, 'min_data_in_leaf': 11}. Best is trial 11 with value: 1.4999129891903473.\u001b[0m\n"
          ]
        },
        {
          "output_type": "stream",
          "name": "stdout",
          "text": [
            "[60]\tvalid_0's l2: 8.20635\n",
            "[70]\tvalid_0's l2: 8.14351\n",
            "[80]\tvalid_0's l2: 8.09833\n",
            "[90]\tvalid_0's l2: 8.06469\n",
            "[100]\tvalid_0's l2: 8.03314\n",
            "Did not meet early stopping. Best iteration is:\n",
            "[100]\tvalid_0's l2: 8.03314\n"
          ]
        },
        {
          "output_type": "stream",
          "name": "stderr",
          "text": [
            "<ipython-input-78-ba9fd7c9ef7c>:8: FutureWarning: suggest_uniform has been deprecated in v3.0.0. This feature will be removed in v6.0.0. See https://github.com/optuna/optuna/releases/tag/v3.0.0. Use :func:`~optuna.trial.Trial.suggest_float` instead.\n",
            "  'bagging_fraction': trial.suggest_uniform('bagging_fraction', 0.4,0.9),\n",
            "<ipython-input-78-ba9fd7c9ef7c>:10: FutureWarning: suggest_uniform has been deprecated in v3.0.0. This feature will be removed in v6.0.0. See https://github.com/optuna/optuna/releases/tag/v3.0.0. Use :func:`~optuna.trial.Trial.suggest_float` instead.\n",
            "  'feature_fraction':trial.suggest_uniform('feture_fraction', 0.4,0.9),\n"
          ]
        },
        {
          "output_type": "stream",
          "name": "stdout",
          "text": [
            "Training until validation scores don't improve for 20 rounds.\n",
            "[10]\tvalid_0's l2: 9.54735\n",
            "[20]\tvalid_0's l2: 9.05431\n",
            "[30]\tvalid_0's l2: 8.79167\n",
            "[40]\tvalid_0's l2: 8.6229\n",
            "[50]\tvalid_0's l2: 8.50083\n",
            "[60]\tvalid_0's l2: 8.41748\n"
          ]
        },
        {
          "output_type": "stream",
          "name": "stderr",
          "text": [
            "\u001b[32m[I 2023-02-14 12:06:05,042]\u001b[0m Trial 31 finished with value: 1.5120907518881608 and parameters: {'num_leaves': 36, 'max_bin': 139, 'bagging_fraction': 0.7650610147583848, 'bagging_freq': 4, 'feture_fraction': 0.599110531108046, 'min_data_in_leaf': 5}. Best is trial 11 with value: 1.4999129891903473.\u001b[0m\n"
          ]
        },
        {
          "output_type": "stream",
          "name": "stdout",
          "text": [
            "[70]\tvalid_0's l2: 8.35603\n",
            "[80]\tvalid_0's l2: 8.30834\n",
            "[90]\tvalid_0's l2: 8.26057\n",
            "[100]\tvalid_0's l2: 8.22893\n",
            "Did not meet early stopping. Best iteration is:\n",
            "[100]\tvalid_0's l2: 8.22893\n"
          ]
        },
        {
          "output_type": "stream",
          "name": "stderr",
          "text": [
            "<ipython-input-78-ba9fd7c9ef7c>:8: FutureWarning: suggest_uniform has been deprecated in v3.0.0. This feature will be removed in v6.0.0. See https://github.com/optuna/optuna/releases/tag/v3.0.0. Use :func:`~optuna.trial.Trial.suggest_float` instead.\n",
            "  'bagging_fraction': trial.suggest_uniform('bagging_fraction', 0.4,0.9),\n",
            "<ipython-input-78-ba9fd7c9ef7c>:10: FutureWarning: suggest_uniform has been deprecated in v3.0.0. This feature will be removed in v6.0.0. See https://github.com/optuna/optuna/releases/tag/v3.0.0. Use :func:`~optuna.trial.Trial.suggest_float` instead.\n",
            "  'feature_fraction':trial.suggest_uniform('feture_fraction', 0.4,0.9),\n"
          ]
        },
        {
          "output_type": "stream",
          "name": "stdout",
          "text": [
            "Training until validation scores don't improve for 20 rounds.\n",
            "[10]\tvalid_0's l2: 9.5508\n",
            "[20]\tvalid_0's l2: 9.04939\n",
            "[30]\tvalid_0's l2: 8.7794\n",
            "[40]\tvalid_0's l2: 8.60726\n",
            "[50]\tvalid_0's l2: 8.47192\n"
          ]
        },
        {
          "output_type": "stream",
          "name": "stderr",
          "text": [
            "\u001b[32m[I 2023-02-14 12:06:05,492]\u001b[0m Trial 32 finished with value: 1.5111524664634581 and parameters: {'num_leaves': 15, 'max_bin': 192, 'bagging_fraction': 0.7697753975246437, 'bagging_freq': 5, 'feture_fraction': 0.5137073139866617, 'min_data_in_leaf': 5}. Best is trial 11 with value: 1.4999129891903473.\u001b[0m\n"
          ]
        },
        {
          "output_type": "stream",
          "name": "stdout",
          "text": [
            "[60]\tvalid_0's l2: 8.3813\n",
            "[70]\tvalid_0's l2: 8.3107\n",
            "[80]\tvalid_0's l2: 8.27404\n",
            "[90]\tvalid_0's l2: 8.21519\n",
            "[100]\tvalid_0's l2: 8.16867\n",
            "Did not meet early stopping. Best iteration is:\n",
            "[100]\tvalid_0's l2: 8.16867\n"
          ]
        },
        {
          "output_type": "stream",
          "name": "stderr",
          "text": [
            "<ipython-input-78-ba9fd7c9ef7c>:8: FutureWarning: suggest_uniform has been deprecated in v3.0.0. This feature will be removed in v6.0.0. See https://github.com/optuna/optuna/releases/tag/v3.0.0. Use :func:`~optuna.trial.Trial.suggest_float` instead.\n",
            "  'bagging_fraction': trial.suggest_uniform('bagging_fraction', 0.4,0.9),\n",
            "<ipython-input-78-ba9fd7c9ef7c>:10: FutureWarning: suggest_uniform has been deprecated in v3.0.0. This feature will be removed in v6.0.0. See https://github.com/optuna/optuna/releases/tag/v3.0.0. Use :func:`~optuna.trial.Trial.suggest_float` instead.\n",
            "  'feature_fraction':trial.suggest_uniform('feture_fraction', 0.4,0.9),\n"
          ]
        },
        {
          "output_type": "stream",
          "name": "stdout",
          "text": [
            "Training until validation scores don't improve for 20 rounds.\n",
            "[10]\tvalid_0's l2: 9.56673\n",
            "[20]\tvalid_0's l2: 9.07725\n",
            "[30]\tvalid_0's l2: 8.82235\n",
            "[40]\tvalid_0's l2: 8.63986\n",
            "[50]\tvalid_0's l2: 8.5116\n",
            "[60]\tvalid_0's l2: 8.43357\n"
          ]
        },
        {
          "output_type": "stream",
          "name": "stderr",
          "text": [
            "\u001b[32m[I 2023-02-14 12:06:05,932]\u001b[0m Trial 33 finished with value: 1.5096971263277246 and parameters: {'num_leaves': 7, 'max_bin': 115, 'bagging_fraction': 0.5558979409970513, 'bagging_freq': 7, 'feture_fraction': 0.5888759196462405, 'min_data_in_leaf': 4}. Best is trial 11 with value: 1.4999129891903473.\u001b[0m\n"
          ]
        },
        {
          "output_type": "stream",
          "name": "stdout",
          "text": [
            "[70]\tvalid_0's l2: 8.36605\n",
            "[80]\tvalid_0's l2: 8.30715\n",
            "[90]\tvalid_0's l2: 8.24672\n",
            "[100]\tvalid_0's l2: 8.20706\n",
            "Did not meet early stopping. Best iteration is:\n",
            "[100]\tvalid_0's l2: 8.20706\n"
          ]
        },
        {
          "output_type": "stream",
          "name": "stderr",
          "text": [
            "<ipython-input-78-ba9fd7c9ef7c>:8: FutureWarning: suggest_uniform has been deprecated in v3.0.0. This feature will be removed in v6.0.0. See https://github.com/optuna/optuna/releases/tag/v3.0.0. Use :func:`~optuna.trial.Trial.suggest_float` instead.\n",
            "  'bagging_fraction': trial.suggest_uniform('bagging_fraction', 0.4,0.9),\n",
            "<ipython-input-78-ba9fd7c9ef7c>:10: FutureWarning: suggest_uniform has been deprecated in v3.0.0. This feature will be removed in v6.0.0. See https://github.com/optuna/optuna/releases/tag/v3.0.0. Use :func:`~optuna.trial.Trial.suggest_float` instead.\n",
            "  'feature_fraction':trial.suggest_uniform('feture_fraction', 0.4,0.9),\n"
          ]
        },
        {
          "output_type": "stream",
          "name": "stdout",
          "text": [
            "Training until validation scores don't improve for 20 rounds.\n",
            "[10]\tvalid_0's l2: 9.50222\n",
            "[20]\tvalid_0's l2: 8.93006\n",
            "[30]\tvalid_0's l2: 8.65174\n",
            "[40]\tvalid_0's l2: 8.48707\n",
            "[50]\tvalid_0's l2: 8.36874\n"
          ]
        },
        {
          "output_type": "stream",
          "name": "stderr",
          "text": [
            "\u001b[32m[I 2023-02-14 12:06:06,375]\u001b[0m Trial 34 finished with value: 1.503338623839128 and parameters: {'num_leaves': 5, 'max_bin': 60, 'bagging_fraction': 0.7396963867492836, 'bagging_freq': 5, 'feture_fraction': 0.6682896055543611, 'min_data_in_leaf': 15}. Best is trial 11 with value: 1.4999129891903473.\u001b[0m\n"
          ]
        },
        {
          "output_type": "stream",
          "name": "stdout",
          "text": [
            "[60]\tvalid_0's l2: 8.27556\n",
            "[70]\tvalid_0's l2: 8.22731\n",
            "[80]\tvalid_0's l2: 8.1833\n",
            "[90]\tvalid_0's l2: 8.13162\n",
            "[100]\tvalid_0's l2: 8.09597\n",
            "Did not meet early stopping. Best iteration is:\n",
            "[100]\tvalid_0's l2: 8.09597\n"
          ]
        },
        {
          "output_type": "stream",
          "name": "stderr",
          "text": [
            "<ipython-input-78-ba9fd7c9ef7c>:8: FutureWarning: suggest_uniform has been deprecated in v3.0.0. This feature will be removed in v6.0.0. See https://github.com/optuna/optuna/releases/tag/v3.0.0. Use :func:`~optuna.trial.Trial.suggest_float` instead.\n",
            "  'bagging_fraction': trial.suggest_uniform('bagging_fraction', 0.4,0.9),\n",
            "<ipython-input-78-ba9fd7c9ef7c>:10: FutureWarning: suggest_uniform has been deprecated in v3.0.0. This feature will be removed in v6.0.0. See https://github.com/optuna/optuna/releases/tag/v3.0.0. Use :func:`~optuna.trial.Trial.suggest_float` instead.\n",
            "  'feature_fraction':trial.suggest_uniform('feture_fraction', 0.4,0.9),\n"
          ]
        },
        {
          "output_type": "stream",
          "name": "stdout",
          "text": [
            "Training until validation scores don't improve for 20 rounds.\n",
            "[10]\tvalid_0's l2: 9.66262\n",
            "[20]\tvalid_0's l2: 9.16673\n",
            "[30]\tvalid_0's l2: 8.89175\n",
            "[40]\tvalid_0's l2: 8.69928\n",
            "[50]\tvalid_0's l2: 8.57323\n",
            "[60]\tvalid_0's l2: 8.47299\n"
          ]
        },
        {
          "output_type": "stream",
          "name": "stderr",
          "text": [
            "\u001b[32m[I 2023-02-14 12:06:06,805]\u001b[0m Trial 35 finished with value: 1.5158698603937673 and parameters: {'num_leaves': 64, 'max_bin': 82, 'bagging_fraction': 0.7315391015500504, 'bagging_freq': 3, 'feture_fraction': 0.41032549973286436, 'min_data_in_leaf': 13}. Best is trial 11 with value: 1.4999129891903473.\u001b[0m\n"
          ]
        },
        {
          "output_type": "stream",
          "name": "stdout",
          "text": [
            "[70]\tvalid_0's l2: 8.39719\n",
            "[80]\tvalid_0's l2: 8.34291\n",
            "[90]\tvalid_0's l2: 8.28819\n",
            "[100]\tvalid_0's l2: 8.25246\n",
            "Did not meet early stopping. Best iteration is:\n",
            "[100]\tvalid_0's l2: 8.25246\n"
          ]
        },
        {
          "output_type": "stream",
          "name": "stderr",
          "text": [
            "<ipython-input-78-ba9fd7c9ef7c>:8: FutureWarning: suggest_uniform has been deprecated in v3.0.0. This feature will be removed in v6.0.0. See https://github.com/optuna/optuna/releases/tag/v3.0.0. Use :func:`~optuna.trial.Trial.suggest_float` instead.\n",
            "  'bagging_fraction': trial.suggest_uniform('bagging_fraction', 0.4,0.9),\n",
            "<ipython-input-78-ba9fd7c9ef7c>:10: FutureWarning: suggest_uniform has been deprecated in v3.0.0. This feature will be removed in v6.0.0. See https://github.com/optuna/optuna/releases/tag/v3.0.0. Use :func:`~optuna.trial.Trial.suggest_float` instead.\n",
            "  'feature_fraction':trial.suggest_uniform('feture_fraction', 0.4,0.9),\n"
          ]
        },
        {
          "output_type": "stream",
          "name": "stdout",
          "text": [
            "Training until validation scores don't improve for 20 rounds.\n",
            "[10]\tvalid_0's l2: 9.50593\n",
            "[20]\tvalid_0's l2: 8.9288\n",
            "[30]\tvalid_0's l2: 8.62109\n",
            "[40]\tvalid_0's l2: 8.43423\n",
            "[50]\tvalid_0's l2: 8.33213\n",
            "[60]\tvalid_0's l2: 8.25514\n"
          ]
        },
        {
          "output_type": "stream",
          "name": "stderr",
          "text": [
            "\u001b[32m[I 2023-02-14 12:06:07,260]\u001b[0m Trial 36 finished with value: 1.5032048510731777 and parameters: {'num_leaves': 23, 'max_bin': 107, 'bagging_fraction': 0.6941585567768029, 'bagging_freq': 9, 'feture_fraction': 0.7144909217955744, 'min_data_in_leaf': 15}. Best is trial 11 with value: 1.4999129891903473.\u001b[0m\n"
          ]
        },
        {
          "output_type": "stream",
          "name": "stdout",
          "text": [
            "[70]\tvalid_0's l2: 8.18279\n",
            "[80]\tvalid_0's l2: 8.13638\n",
            "[90]\tvalid_0's l2: 8.10614\n",
            "[100]\tvalid_0's l2: 8.06519\n",
            "Did not meet early stopping. Best iteration is:\n",
            "[100]\tvalid_0's l2: 8.06519\n"
          ]
        },
        {
          "output_type": "stream",
          "name": "stderr",
          "text": [
            "<ipython-input-78-ba9fd7c9ef7c>:8: FutureWarning: suggest_uniform has been deprecated in v3.0.0. This feature will be removed in v6.0.0. See https://github.com/optuna/optuna/releases/tag/v3.0.0. Use :func:`~optuna.trial.Trial.suggest_float` instead.\n",
            "  'bagging_fraction': trial.suggest_uniform('bagging_fraction', 0.4,0.9),\n",
            "<ipython-input-78-ba9fd7c9ef7c>:10: FutureWarning: suggest_uniform has been deprecated in v3.0.0. This feature will be removed in v6.0.0. See https://github.com/optuna/optuna/releases/tag/v3.0.0. Use :func:`~optuna.trial.Trial.suggest_float` instead.\n",
            "  'feature_fraction':trial.suggest_uniform('feture_fraction', 0.4,0.9),\n"
          ]
        },
        {
          "output_type": "stream",
          "name": "stdout",
          "text": [
            "Training until validation scores don't improve for 20 rounds.\n",
            "[10]\tvalid_0's l2: 9.49805\n",
            "[20]\tvalid_0's l2: 8.93288\n",
            "[30]\tvalid_0's l2: 8.66089\n",
            "[40]\tvalid_0's l2: 8.47961\n",
            "[50]\tvalid_0's l2: 8.33864\n",
            "[60]\tvalid_0's l2: 8.24806\n"
          ]
        },
        {
          "output_type": "stream",
          "name": "stderr",
          "text": [
            "\u001b[32m[I 2023-02-14 12:06:07,721]\u001b[0m Trial 37 finished with value: 1.504116183670508 and parameters: {'num_leaves': 20, 'max_bin': 170, 'bagging_fraction': 0.4928179721529761, 'bagging_freq': 10, 'feture_fraction': 0.7437441381939076, 'min_data_in_leaf': 5}. Best is trial 11 with value: 1.4999129891903473.\u001b[0m\n"
          ]
        },
        {
          "output_type": "stream",
          "name": "stdout",
          "text": [
            "[70]\tvalid_0's l2: 8.21027\n",
            "[80]\tvalid_0's l2: 8.17478\n",
            "[90]\tvalid_0's l2: 8.12718\n",
            "[100]\tvalid_0's l2: 8.10208\n",
            "Did not meet early stopping. Best iteration is:\n",
            "[100]\tvalid_0's l2: 8.10208\n"
          ]
        },
        {
          "output_type": "stream",
          "name": "stderr",
          "text": [
            "<ipython-input-78-ba9fd7c9ef7c>:8: FutureWarning: suggest_uniform has been deprecated in v3.0.0. This feature will be removed in v6.0.0. See https://github.com/optuna/optuna/releases/tag/v3.0.0. Use :func:`~optuna.trial.Trial.suggest_float` instead.\n",
            "  'bagging_fraction': trial.suggest_uniform('bagging_fraction', 0.4,0.9),\n",
            "<ipython-input-78-ba9fd7c9ef7c>:10: FutureWarning: suggest_uniform has been deprecated in v3.0.0. This feature will be removed in v6.0.0. See https://github.com/optuna/optuna/releases/tag/v3.0.0. Use :func:`~optuna.trial.Trial.suggest_float` instead.\n",
            "  'feature_fraction':trial.suggest_uniform('feture_fraction', 0.4,0.9),\n"
          ]
        },
        {
          "output_type": "stream",
          "name": "stdout",
          "text": [
            "Training until validation scores don't improve for 20 rounds.\n",
            "[10]\tvalid_0's l2: 9.51101\n",
            "[20]\tvalid_0's l2: 8.92951\n",
            "[30]\tvalid_0's l2: 8.62351\n",
            "[40]\tvalid_0's l2: 8.44578\n",
            "[50]\tvalid_0's l2: 8.33876\n"
          ]
        },
        {
          "output_type": "stream",
          "name": "stderr",
          "text": [
            "\u001b[32m[I 2023-02-14 12:06:08,183]\u001b[0m Trial 38 finished with value: 1.5055616196225012 and parameters: {'num_leaves': 61, 'max_bin': 160, 'bagging_fraction': 0.5269708212975129, 'bagging_freq': 3, 'feture_fraction': 0.6591003569653316, 'min_data_in_leaf': 2}. Best is trial 11 with value: 1.4999129891903473.\u001b[0m\n"
          ]
        },
        {
          "output_type": "stream",
          "name": "stdout",
          "text": [
            "[60]\tvalid_0's l2: 8.26439\n",
            "[70]\tvalid_0's l2: 8.20717\n",
            "[80]\tvalid_0's l2: 8.15681\n",
            "[90]\tvalid_0's l2: 8.11525\n",
            "[100]\tvalid_0's l2: 8.08503\n",
            "Did not meet early stopping. Best iteration is:\n",
            "[100]\tvalid_0's l2: 8.08503\n"
          ]
        },
        {
          "output_type": "stream",
          "name": "stderr",
          "text": [
            "<ipython-input-78-ba9fd7c9ef7c>:8: FutureWarning: suggest_uniform has been deprecated in v3.0.0. This feature will be removed in v6.0.0. See https://github.com/optuna/optuna/releases/tag/v3.0.0. Use :func:`~optuna.trial.Trial.suggest_float` instead.\n",
            "  'bagging_fraction': trial.suggest_uniform('bagging_fraction', 0.4,0.9),\n",
            "<ipython-input-78-ba9fd7c9ef7c>:10: FutureWarning: suggest_uniform has been deprecated in v3.0.0. This feature will be removed in v6.0.0. See https://github.com/optuna/optuna/releases/tag/v3.0.0. Use :func:`~optuna.trial.Trial.suggest_float` instead.\n",
            "  'feature_fraction':trial.suggest_uniform('feture_fraction', 0.4,0.9),\n"
          ]
        },
        {
          "output_type": "stream",
          "name": "stdout",
          "text": [
            "Training until validation scores don't improve for 20 rounds.\n",
            "[10]\tvalid_0's l2: 9.5645\n",
            "[20]\tvalid_0's l2: 9.05533\n",
            "[30]\tvalid_0's l2: 8.77774\n",
            "[40]\tvalid_0's l2: 8.6107\n",
            "[50]\tvalid_0's l2: 8.49172\n",
            "[60]\tvalid_0's l2: 8.40676\n"
          ]
        },
        {
          "output_type": "stream",
          "name": "stderr",
          "text": [
            "\u001b[32m[I 2023-02-14 12:06:08,623]\u001b[0m Trial 39 finished with value: 1.512562963272005 and parameters: {'num_leaves': 16, 'max_bin': 114, 'bagging_fraction': 0.5870849901671128, 'bagging_freq': 5, 'feture_fraction': 0.5388143531473659, 'min_data_in_leaf': 10}. Best is trial 11 with value: 1.4999129891903473.\u001b[0m\n"
          ]
        },
        {
          "output_type": "stream",
          "name": "stdout",
          "text": [
            "[70]\tvalid_0's l2: 8.34101\n",
            "[80]\tvalid_0's l2: 8.29837\n",
            "[90]\tvalid_0's l2: 8.27069\n",
            "[100]\tvalid_0's l2: 8.23725\n",
            "Did not meet early stopping. Best iteration is:\n",
            "[99]\tvalid_0's l2: 8.2347\n"
          ]
        },
        {
          "output_type": "stream",
          "name": "stderr",
          "text": [
            "<ipython-input-78-ba9fd7c9ef7c>:8: FutureWarning: suggest_uniform has been deprecated in v3.0.0. This feature will be removed in v6.0.0. See https://github.com/optuna/optuna/releases/tag/v3.0.0. Use :func:`~optuna.trial.Trial.suggest_float` instead.\n",
            "  'bagging_fraction': trial.suggest_uniform('bagging_fraction', 0.4,0.9),\n",
            "<ipython-input-78-ba9fd7c9ef7c>:10: FutureWarning: suggest_uniform has been deprecated in v3.0.0. This feature will be removed in v6.0.0. See https://github.com/optuna/optuna/releases/tag/v3.0.0. Use :func:`~optuna.trial.Trial.suggest_float` instead.\n",
            "  'feature_fraction':trial.suggest_uniform('feture_fraction', 0.4,0.9),\n"
          ]
        },
        {
          "output_type": "stream",
          "name": "stdout",
          "text": [
            "Training until validation scores don't improve for 20 rounds.\n",
            "[10]\tvalid_0's l2: 9.45631\n",
            "[20]\tvalid_0's l2: 8.88242\n",
            "[30]\tvalid_0's l2: 8.59819\n",
            "[40]\tvalid_0's l2: 8.4537\n",
            "[50]\tvalid_0's l2: 8.34807\n",
            "[60]\tvalid_0's l2: 8.27514\n",
            "[70]\tvalid_0's l2: 8.2083\n"
          ]
        },
        {
          "output_type": "stream",
          "name": "stderr",
          "text": [
            "\u001b[32m[I 2023-02-14 12:06:09,002]\u001b[0m Trial 40 finished with value: 1.502419398750575 and parameters: {'num_leaves': 56, 'max_bin': 67, 'bagging_fraction': 0.6586895535770572, 'bagging_freq': 2, 'feture_fraction': 0.7584298405962968, 'min_data_in_leaf': 7}. Best is trial 11 with value: 1.4999129891903473.\u001b[0m\n"
          ]
        },
        {
          "output_type": "stream",
          "name": "stdout",
          "text": [
            "[80]\tvalid_0's l2: 8.15814\n",
            "[90]\tvalid_0's l2: 8.1155\n",
            "[100]\tvalid_0's l2: 8.08044\n",
            "Did not meet early stopping. Best iteration is:\n",
            "[99]\tvalid_0's l2: 8.07877\n",
            "Training until validation scores don't improve for 20 rounds.\n",
            "[10]\tvalid_0's l2: 9.5537\n",
            "[20]\tvalid_0's l2: 9.05466\n"
          ]
        },
        {
          "output_type": "stream",
          "name": "stderr",
          "text": [
            "<ipython-input-78-ba9fd7c9ef7c>:8: FutureWarning: suggest_uniform has been deprecated in v3.0.0. This feature will be removed in v6.0.0. See https://github.com/optuna/optuna/releases/tag/v3.0.0. Use :func:`~optuna.trial.Trial.suggest_float` instead.\n",
            "  'bagging_fraction': trial.suggest_uniform('bagging_fraction', 0.4,0.9),\n",
            "<ipython-input-78-ba9fd7c9ef7c>:10: FutureWarning: suggest_uniform has been deprecated in v3.0.0. This feature will be removed in v6.0.0. See https://github.com/optuna/optuna/releases/tag/v3.0.0. Use :func:`~optuna.trial.Trial.suggest_float` instead.\n",
            "  'feature_fraction':trial.suggest_uniform('feture_fraction', 0.4,0.9),\n"
          ]
        },
        {
          "output_type": "stream",
          "name": "stdout",
          "text": [
            "[30]\tvalid_0's l2: 8.80912\n",
            "[40]\tvalid_0's l2: 8.64561\n",
            "[50]\tvalid_0's l2: 8.54234\n",
            "[60]\tvalid_0's l2: 8.47151\n",
            "[70]\tvalid_0's l2: 8.42384\n",
            "[80]\tvalid_0's l2: 8.38447\n",
            "[90]\tvalid_0's l2: 8.3452\n",
            "[100]\tvalid_0's l2: 8.29664\n",
            "Did not meet early stopping. Best iteration is:\n",
            "[100]\tvalid_0's l2: 8.29664\n"
          ]
        },
        {
          "output_type": "stream",
          "name": "stderr",
          "text": [
            "\u001b[32m[I 2023-02-14 12:06:09,327]\u001b[0m Trial 41 finished with value: 1.515605927045465 and parameters: {'num_leaves': 38, 'max_bin': 77, 'bagging_fraction': 0.47242387967168864, 'bagging_freq': 5, 'feture_fraction': 0.5778063689249778, 'min_data_in_leaf': 16}. Best is trial 11 with value: 1.4999129891903473.\u001b[0m\n",
            "<ipython-input-78-ba9fd7c9ef7c>:8: FutureWarning: suggest_uniform has been deprecated in v3.0.0. This feature will be removed in v6.0.0. See https://github.com/optuna/optuna/releases/tag/v3.0.0. Use :func:`~optuna.trial.Trial.suggest_float` instead.\n",
            "  'bagging_fraction': trial.suggest_uniform('bagging_fraction', 0.4,0.9),\n",
            "<ipython-input-78-ba9fd7c9ef7c>:10: FutureWarning: suggest_uniform has been deprecated in v3.0.0. This feature will be removed in v6.0.0. See https://github.com/optuna/optuna/releases/tag/v3.0.0. Use :func:`~optuna.trial.Trial.suggest_float` instead.\n",
            "  'feature_fraction':trial.suggest_uniform('feture_fraction', 0.4,0.9),\n"
          ]
        },
        {
          "output_type": "stream",
          "name": "stdout",
          "text": [
            "Training until validation scores don't improve for 20 rounds.\n",
            "[10]\tvalid_0's l2: 9.49222\n",
            "[20]\tvalid_0's l2: 8.93283\n",
            "[30]\tvalid_0's l2: 8.63269\n",
            "[40]\tvalid_0's l2: 8.4614\n",
            "[50]\tvalid_0's l2: 8.34763\n",
            "[60]\tvalid_0's l2: 8.25642\n",
            "[70]\tvalid_0's l2: 8.18524\n",
            "[80]\tvalid_0's l2: 8.13437\n",
            "[90]\tvalid_0's l2: 8.09116\n"
          ]
        },
        {
          "output_type": "stream",
          "name": "stderr",
          "text": [
            "\u001b[32m[I 2023-02-14 12:06:09,629]\u001b[0m Trial 42 finished with value: 1.50311339661297 and parameters: {'num_leaves': 50, 'max_bin': 163, 'bagging_fraction': 0.8518598698729667, 'bagging_freq': 1, 'feture_fraction': 0.6760962349612033, 'min_data_in_leaf': 10}. Best is trial 11 with value: 1.4999129891903473.\u001b[0m\n"
          ]
        },
        {
          "output_type": "stream",
          "name": "stdout",
          "text": [
            "[100]\tvalid_0's l2: 8.06011\n",
            "Did not meet early stopping. Best iteration is:\n",
            "[100]\tvalid_0's l2: 8.06011\n",
            "Training until validation scores don't improve for 20 rounds.\n",
            "[10]\tvalid_0's l2: 9.66898\n",
            "[20]\tvalid_0's l2: 9.19425\n",
            "[30]\tvalid_0's l2: 8.90346\n",
            "[40]\tvalid_0's l2: 8.72759\n"
          ]
        },
        {
          "output_type": "stream",
          "name": "stderr",
          "text": [
            "<ipython-input-78-ba9fd7c9ef7c>:8: FutureWarning: suggest_uniform has been deprecated in v3.0.0. This feature will be removed in v6.0.0. See https://github.com/optuna/optuna/releases/tag/v3.0.0. Use :func:`~optuna.trial.Trial.suggest_float` instead.\n",
            "  'bagging_fraction': trial.suggest_uniform('bagging_fraction', 0.4,0.9),\n",
            "<ipython-input-78-ba9fd7c9ef7c>:10: FutureWarning: suggest_uniform has been deprecated in v3.0.0. This feature will be removed in v6.0.0. See https://github.com/optuna/optuna/releases/tag/v3.0.0. Use :func:`~optuna.trial.Trial.suggest_float` instead.\n",
            "  'feature_fraction':trial.suggest_uniform('feture_fraction', 0.4,0.9),\n",
            "\u001b[32m[I 2023-02-14 12:06:09,949]\u001b[0m Trial 43 finished with value: 1.5168682983288861 and parameters: {'num_leaves': 62, 'max_bin': 94, 'bagging_fraction': 0.5204143899577234, 'bagging_freq': 2, 'feture_fraction': 0.4082148147957371, 'min_data_in_leaf': 15}. Best is trial 11 with value: 1.4999129891903473.\u001b[0m\n"
          ]
        },
        {
          "output_type": "stream",
          "name": "stdout",
          "text": [
            "[50]\tvalid_0's l2: 8.57329\n",
            "[60]\tvalid_0's l2: 8.47872\n",
            "[70]\tvalid_0's l2: 8.41841\n",
            "[80]\tvalid_0's l2: 8.36767\n",
            "[90]\tvalid_0's l2: 8.3281\n",
            "[100]\tvalid_0's l2: 8.29699\n",
            "Did not meet early stopping. Best iteration is:\n",
            "[100]\tvalid_0's l2: 8.29699\n"
          ]
        },
        {
          "output_type": "stream",
          "name": "stderr",
          "text": [
            "<ipython-input-78-ba9fd7c9ef7c>:8: FutureWarning: suggest_uniform has been deprecated in v3.0.0. This feature will be removed in v6.0.0. See https://github.com/optuna/optuna/releases/tag/v3.0.0. Use :func:`~optuna.trial.Trial.suggest_float` instead.\n",
            "  'bagging_fraction': trial.suggest_uniform('bagging_fraction', 0.4,0.9),\n",
            "<ipython-input-78-ba9fd7c9ef7c>:10: FutureWarning: suggest_uniform has been deprecated in v3.0.0. This feature will be removed in v6.0.0. See https://github.com/optuna/optuna/releases/tag/v3.0.0. Use :func:`~optuna.trial.Trial.suggest_float` instead.\n",
            "  'feature_fraction':trial.suggest_uniform('feture_fraction', 0.4,0.9),\n"
          ]
        },
        {
          "output_type": "stream",
          "name": "stdout",
          "text": [
            "Training until validation scores don't improve for 20 rounds.\n",
            "[10]\tvalid_0's l2: 9.66187\n",
            "[20]\tvalid_0's l2: 9.16485\n",
            "[30]\tvalid_0's l2: 8.89383\n",
            "[40]\tvalid_0's l2: 8.70259\n",
            "[50]\tvalid_0's l2: 8.54884\n",
            "[60]\tvalid_0's l2: 8.45321\n",
            "[70]\tvalid_0's l2: 8.39053\n",
            "[80]\tvalid_0's l2: 8.35068\n"
          ]
        },
        {
          "output_type": "stream",
          "name": "stderr",
          "text": [
            "\u001b[32m[I 2023-02-14 12:06:10,287]\u001b[0m Trial 44 finished with value: 1.5156715753997778 and parameters: {'num_leaves': 44, 'max_bin': 168, 'bagging_fraction': 0.5408650528769745, 'bagging_freq': 6, 'feture_fraction': 0.4319776330604906, 'min_data_in_leaf': 9}. Best is trial 11 with value: 1.4999129891903473.\u001b[0m\n"
          ]
        },
        {
          "output_type": "stream",
          "name": "stdout",
          "text": [
            "[90]\tvalid_0's l2: 8.30846\n",
            "[100]\tvalid_0's l2: 8.26798\n",
            "Did not meet early stopping. Best iteration is:\n",
            "[100]\tvalid_0's l2: 8.26798\n",
            "Training until validation scores don't improve for 20 rounds.\n",
            "[10]\tvalid_0's l2: 9.57227\n",
            "[20]\tvalid_0's l2: 9.04175\n",
            "[30]\tvalid_0's l2: 8.79561\n"
          ]
        },
        {
          "output_type": "stream",
          "name": "stderr",
          "text": [
            "<ipython-input-78-ba9fd7c9ef7c>:8: FutureWarning: suggest_uniform has been deprecated in v3.0.0. This feature will be removed in v6.0.0. See https://github.com/optuna/optuna/releases/tag/v3.0.0. Use :func:`~optuna.trial.Trial.suggest_float` instead.\n",
            "  'bagging_fraction': trial.suggest_uniform('bagging_fraction', 0.4,0.9),\n",
            "<ipython-input-78-ba9fd7c9ef7c>:10: FutureWarning: suggest_uniform has been deprecated in v3.0.0. This feature will be removed in v6.0.0. See https://github.com/optuna/optuna/releases/tag/v3.0.0. Use :func:`~optuna.trial.Trial.suggest_float` instead.\n",
            "  'feature_fraction':trial.suggest_uniform('feture_fraction', 0.4,0.9),\n",
            "\u001b[32m[I 2023-02-14 12:06:10,620]\u001b[0m Trial 45 finished with value: 1.5129126841744907 and parameters: {'num_leaves': 63, 'max_bin': 182, 'bagging_fraction': 0.5690794759184228, 'bagging_freq': 10, 'feture_fraction': 0.5158508132356023, 'min_data_in_leaf': 16}. Best is trial 11 with value: 1.4999129891903473.\u001b[0m\n"
          ]
        },
        {
          "output_type": "stream",
          "name": "stdout",
          "text": [
            "[40]\tvalid_0's l2: 8.64288\n",
            "[50]\tvalid_0's l2: 8.54173\n",
            "[60]\tvalid_0's l2: 8.45655\n",
            "[70]\tvalid_0's l2: 8.41798\n",
            "[80]\tvalid_0's l2: 8.36284\n",
            "[90]\tvalid_0's l2: 8.30505\n",
            "[100]\tvalid_0's l2: 8.26605\n",
            "Did not meet early stopping. Best iteration is:\n",
            "[100]\tvalid_0's l2: 8.26605\n"
          ]
        },
        {
          "output_type": "stream",
          "name": "stderr",
          "text": [
            "<ipython-input-78-ba9fd7c9ef7c>:8: FutureWarning: suggest_uniform has been deprecated in v3.0.0. This feature will be removed in v6.0.0. See https://github.com/optuna/optuna/releases/tag/v3.0.0. Use :func:`~optuna.trial.Trial.suggest_float` instead.\n",
            "  'bagging_fraction': trial.suggest_uniform('bagging_fraction', 0.4,0.9),\n",
            "<ipython-input-78-ba9fd7c9ef7c>:10: FutureWarning: suggest_uniform has been deprecated in v3.0.0. This feature will be removed in v6.0.0. See https://github.com/optuna/optuna/releases/tag/v3.0.0. Use :func:`~optuna.trial.Trial.suggest_float` instead.\n",
            "  'feature_fraction':trial.suggest_uniform('feture_fraction', 0.4,0.9),\n"
          ]
        },
        {
          "output_type": "stream",
          "name": "stdout",
          "text": [
            "Training until validation scores don't improve for 20 rounds.\n",
            "[10]\tvalid_0's l2: 9.55692\n",
            "[20]\tvalid_0's l2: 9.0698\n",
            "[30]\tvalid_0's l2: 8.77018\n",
            "[40]\tvalid_0's l2: 8.58062\n",
            "[50]\tvalid_0's l2: 8.45765\n",
            "[60]\tvalid_0's l2: 8.36745\n",
            "[70]\tvalid_0's l2: 8.29208\n"
          ]
        },
        {
          "output_type": "stream",
          "name": "stderr",
          "text": [
            "\u001b[32m[I 2023-02-14 12:06:10,975]\u001b[0m Trial 46 finished with value: 1.5094918823519694 and parameters: {'num_leaves': 61, 'max_bin': 170, 'bagging_fraction': 0.7152239684333956, 'bagging_freq': 9, 'feture_fraction': 0.5465101422538984, 'min_data_in_leaf': 14}. Best is trial 11 with value: 1.4999129891903473.\u001b[0m\n"
          ]
        },
        {
          "output_type": "stream",
          "name": "stdout",
          "text": [
            "[80]\tvalid_0's l2: 8.2599\n",
            "[90]\tvalid_0's l2: 8.21148\n",
            "[100]\tvalid_0's l2: 8.17953\n",
            "Did not meet early stopping. Best iteration is:\n",
            "[99]\tvalid_0's l2: 8.17915\n",
            "Training until validation scores don't improve for 20 rounds.\n",
            "[10]\tvalid_0's l2: 9.34974\n",
            "[20]\tvalid_0's l2: 8.82113\n"
          ]
        },
        {
          "output_type": "stream",
          "name": "stderr",
          "text": [
            "<ipython-input-78-ba9fd7c9ef7c>:8: FutureWarning: suggest_uniform has been deprecated in v3.0.0. This feature will be removed in v6.0.0. See https://github.com/optuna/optuna/releases/tag/v3.0.0. Use :func:`~optuna.trial.Trial.suggest_float` instead.\n",
            "  'bagging_fraction': trial.suggest_uniform('bagging_fraction', 0.4,0.9),\n",
            "<ipython-input-78-ba9fd7c9ef7c>:10: FutureWarning: suggest_uniform has been deprecated in v3.0.0. This feature will be removed in v6.0.0. See https://github.com/optuna/optuna/releases/tag/v3.0.0. Use :func:`~optuna.trial.Trial.suggest_float` instead.\n",
            "  'feature_fraction':trial.suggest_uniform('feture_fraction', 0.4,0.9),\n"
          ]
        },
        {
          "output_type": "stream",
          "name": "stdout",
          "text": [
            "[30]\tvalid_0's l2: 8.56615\n",
            "[40]\tvalid_0's l2: 8.4043\n",
            "[50]\tvalid_0's l2: 8.30919\n",
            "[60]\tvalid_0's l2: 8.2243\n",
            "[70]\tvalid_0's l2: 8.15787\n",
            "[80]\tvalid_0's l2: 8.08899\n",
            "[90]\tvalid_0's l2: 8.05429\n",
            "[100]\tvalid_0's l2: 8.01536\n",
            "Did not meet early stopping. Best iteration is:\n",
            "[100]\tvalid_0's l2: 8.01536\n"
          ]
        },
        {
          "output_type": "stream",
          "name": "stderr",
          "text": [
            "\u001b[32m[I 2023-02-14 12:06:11,322]\u001b[0m Trial 47 finished with value: 1.4988085054182747 and parameters: {'num_leaves': 41, 'max_bin': 51, 'bagging_fraction': 0.5736167589661099, 'bagging_freq': 2, 'feture_fraction': 0.8909146949091267, 'min_data_in_leaf': 9}. Best is trial 47 with value: 1.4988085054182747.\u001b[0m\n",
            "<ipython-input-78-ba9fd7c9ef7c>:8: FutureWarning: suggest_uniform has been deprecated in v3.0.0. This feature will be removed in v6.0.0. See https://github.com/optuna/optuna/releases/tag/v3.0.0. Use :func:`~optuna.trial.Trial.suggest_float` instead.\n",
            "  'bagging_fraction': trial.suggest_uniform('bagging_fraction', 0.4,0.9),\n",
            "<ipython-input-78-ba9fd7c9ef7c>:10: FutureWarning: suggest_uniform has been deprecated in v3.0.0. This feature will be removed in v6.0.0. See https://github.com/optuna/optuna/releases/tag/v3.0.0. Use :func:`~optuna.trial.Trial.suggest_float` instead.\n",
            "  'feature_fraction':trial.suggest_uniform('feture_fraction', 0.4,0.9),\n"
          ]
        },
        {
          "output_type": "stream",
          "name": "stdout",
          "text": [
            "Training until validation scores don't improve for 20 rounds.\n",
            "[10]\tvalid_0's l2: 9.45784\n",
            "[20]\tvalid_0's l2: 8.87215\n",
            "[30]\tvalid_0's l2: 8.56634\n",
            "[40]\tvalid_0's l2: 8.39443\n",
            "[50]\tvalid_0's l2: 8.28316\n",
            "[60]\tvalid_0's l2: 8.19968\n",
            "[70]\tvalid_0's l2: 8.14174\n"
          ]
        },
        {
          "output_type": "stream",
          "name": "stderr",
          "text": [
            "\u001b[32m[I 2023-02-14 12:06:11,676]\u001b[0m Trial 48 finished with value: 1.4999338572871008 and parameters: {'num_leaves': 34, 'max_bin': 146, 'bagging_fraction': 0.5842923030648088, 'bagging_freq': 2, 'feture_fraction': 0.8110588665971228, 'min_data_in_leaf': 4}. Best is trial 47 with value: 1.4988085054182747.\u001b[0m\n"
          ]
        },
        {
          "output_type": "stream",
          "name": "stdout",
          "text": [
            "[80]\tvalid_0's l2: 8.09349\n",
            "[90]\tvalid_0's l2: 8.05506\n",
            "[100]\tvalid_0's l2: 8.01516\n",
            "Did not meet early stopping. Best iteration is:\n",
            "[100]\tvalid_0's l2: 8.01516\n",
            "Training until validation scores don't improve for 20 rounds.\n",
            "[10]\tvalid_0's l2: 9.36733\n",
            "[20]\tvalid_0's l2: 8.84912\n"
          ]
        },
        {
          "output_type": "stream",
          "name": "stderr",
          "text": [
            "<ipython-input-78-ba9fd7c9ef7c>:8: FutureWarning: suggest_uniform has been deprecated in v3.0.0. This feature will be removed in v6.0.0. See https://github.com/optuna/optuna/releases/tag/v3.0.0. Use :func:`~optuna.trial.Trial.suggest_float` instead.\n",
            "  'bagging_fraction': trial.suggest_uniform('bagging_fraction', 0.4,0.9),\n",
            "<ipython-input-78-ba9fd7c9ef7c>:10: FutureWarning: suggest_uniform has been deprecated in v3.0.0. This feature will be removed in v6.0.0. See https://github.com/optuna/optuna/releases/tag/v3.0.0. Use :func:`~optuna.trial.Trial.suggest_float` instead.\n",
            "  'feature_fraction':trial.suggest_uniform('feture_fraction', 0.4,0.9),\n",
            "\u001b[32m[I 2023-02-14 12:06:12,001]\u001b[0m Trial 49 finished with value: 1.5004184409353658 and parameters: {'num_leaves': 35, 'max_bin': 83, 'bagging_fraction': 0.44892224224701704, 'bagging_freq': 9, 'feture_fraction': 0.8864597445115652, 'min_data_in_leaf': 16}. Best is trial 47 with value: 1.4988085054182747.\u001b[0m\n"
          ]
        },
        {
          "output_type": "stream",
          "name": "stdout",
          "text": [
            "[30]\tvalid_0's l2: 8.5566\n",
            "[40]\tvalid_0's l2: 8.38036\n",
            "[50]\tvalid_0's l2: 8.30291\n",
            "[60]\tvalid_0's l2: 8.22667\n",
            "[70]\tvalid_0's l2: 8.18124\n",
            "[80]\tvalid_0's l2: 8.13768\n",
            "[90]\tvalid_0's l2: 8.08955\n",
            "[100]\tvalid_0's l2: 8.07189\n",
            "Did not meet early stopping. Best iteration is:\n",
            "[100]\tvalid_0's l2: 8.07189\n"
          ]
        },
        {
          "output_type": "execute_result",
          "data": {
            "text/plain": [
              "{'num_leaves': 41,\n",
              " 'max_bin': 51,\n",
              " 'bagging_fraction': 0.5736167589661099,\n",
              " 'bagging_freq': 2,\n",
              " 'feture_fraction': 0.8909146949091267,\n",
              " 'min_data_in_leaf': 9}"
            ]
          },
          "metadata": {},
          "execution_count": 78
        }
      ]
    },
    {
      "cell_type": "code",
      "source": [
        "lgb2 = LGBMRegressor(num_leaves= 41,\n",
        " max_bin =51,\n",
        " bagging_fraction =  0.5736167589661099,\n",
        " bagging_freq =  2,\n",
        " feture_fraction =  0.8909146949091267,\n",
        " min_data_in_leaf = 9)"
      ],
      "metadata": {
        "id": "2h9zdmGY0UKL"
      },
      "execution_count": 16,
      "outputs": []
    },
    {
      "cell_type": "code",
      "source": [
        "model = [('lg', lgb2), ('rf', rf_clf), ('xgb',xgb)]"
      ],
      "metadata": {
        "id": "KTPU5BDX3O1C"
      },
      "execution_count": 51,
      "outputs": []
    },
    {
      "cell_type": "code",
      "source": [
        "voting  = VotingRegressor(model)"
      ],
      "metadata": {
        "id": "-vcpLwGI3Oyq"
      },
      "execution_count": 46,
      "outputs": []
    },
    {
      "cell_type": "code",
      "source": [
        "voting.fit(X, y)"
      ],
      "metadata": {
        "colab": {
          "base_uri": "https://localhost:8080/"
        },
        "id": "dW6LWWWO3taE",
        "outputId": "e671b413-39d6-408f-fe9d-e65cb140b50f"
      },
      "execution_count": 47,
      "outputs": [
        {
          "output_type": "stream",
          "name": "stdout",
          "text": [
            "[06:44:58] WARNING: /workspace/src/objective/regression_obj.cu:152: reg:linear is now deprecated in favor of reg:squarederror.\n"
          ]
        },
        {
          "output_type": "execute_result",
          "data": {
            "text/plain": [
              "VotingRegressor(estimators=[('lg', LGBMRegressor()),\n",
              "                            ('rf', RandomForestRegressor()),\n",
              "                            ('xgb', XGBRegressor())])"
            ]
          },
          "metadata": {},
          "execution_count": 47
        }
      ]
    },
    {
      "cell_type": "code",
      "source": [
        "pre = voting.predict(test)"
      ],
      "metadata": {
        "id": "LP8g0iDK4BYe"
      },
      "execution_count": 48,
      "outputs": []
    },
    {
      "cell_type": "code",
      "source": [
        "sub['target'] = pre"
      ],
      "metadata": {
        "id": "nv5GuXG-n1A8"
      },
      "execution_count": 49,
      "outputs": []
    },
    {
      "cell_type": "code",
      "source": [
        "sub.to_csv('sub.csv', index = False)"
      ],
      "metadata": {
        "id": "lRNN_-L_n27L"
      },
      "execution_count": 50,
      "outputs": []
    }
  ]
}